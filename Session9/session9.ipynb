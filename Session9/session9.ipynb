{
  "nbformat": 4,
  "nbformat_minor": 0,
  "metadata": {
    "colab": {
      "provenance": [],
      "gpuType": "T4"
    },
    "kernelspec": {
      "name": "python3",
      "display_name": "Python 3"
    },
    "language_info": {
      "name": "python"
    },
    "accelerator": "GPU",
    "widgets": {
      "application/vnd.jupyter.widget-state+json": {
        "03084bdab93c450aa449c96e2d38310e": {
          "model_module": "@jupyter-widgets/controls",
          "model_name": "HBoxModel",
          "model_module_version": "1.5.0",
          "state": {
            "_dom_classes": [],
            "_model_module": "@jupyter-widgets/controls",
            "_model_module_version": "1.5.0",
            "_model_name": "HBoxModel",
            "_view_count": null,
            "_view_module": "@jupyter-widgets/controls",
            "_view_module_version": "1.5.0",
            "_view_name": "HBoxView",
            "box_style": "",
            "children": [
              "IPY_MODEL_929a80864b664a22a0ef11d7f7d92a7e",
              "IPY_MODEL_33ea1ca290074553902d5d91cfebdc8a",
              "IPY_MODEL_1bd10c03bcba4abe94d26946ce8a5866"
            ],
            "layout": "IPY_MODEL_b536692f187440429cab0ee92b81832e"
          }
        },
        "929a80864b664a22a0ef11d7f7d92a7e": {
          "model_module": "@jupyter-widgets/controls",
          "model_name": "HTMLModel",
          "model_module_version": "1.5.0",
          "state": {
            "_dom_classes": [],
            "_model_module": "@jupyter-widgets/controls",
            "_model_module_version": "1.5.0",
            "_model_name": "HTMLModel",
            "_view_count": null,
            "_view_module": "@jupyter-widgets/controls",
            "_view_module_version": "1.5.0",
            "_view_name": "HTMLView",
            "description": "",
            "description_tooltip": null,
            "layout": "IPY_MODEL_f9a6052bdc02402ab2fdd901bb7bce56",
            "placeholder": "​",
            "style": "IPY_MODEL_93f888e9ac82405ba7737f54f583b8eb",
            "value": "100%"
          }
        },
        "33ea1ca290074553902d5d91cfebdc8a": {
          "model_module": "@jupyter-widgets/controls",
          "model_name": "FloatProgressModel",
          "model_module_version": "1.5.0",
          "state": {
            "_dom_classes": [],
            "_model_module": "@jupyter-widgets/controls",
            "_model_module_version": "1.5.0",
            "_model_name": "FloatProgressModel",
            "_view_count": null,
            "_view_module": "@jupyter-widgets/controls",
            "_view_module_version": "1.5.0",
            "_view_name": "ProgressView",
            "bar_style": "success",
            "description": "",
            "description_tooltip": null,
            "layout": "IPY_MODEL_c55e21eca49840dab96464a42d405545",
            "max": 50000,
            "min": 0,
            "orientation": "horizontal",
            "style": "IPY_MODEL_164c65e93fb54c17b26c37e46dff214f",
            "value": 50000
          }
        },
        "1bd10c03bcba4abe94d26946ce8a5866": {
          "model_module": "@jupyter-widgets/controls",
          "model_name": "HTMLModel",
          "model_module_version": "1.5.0",
          "state": {
            "_dom_classes": [],
            "_model_module": "@jupyter-widgets/controls",
            "_model_module_version": "1.5.0",
            "_model_name": "HTMLModel",
            "_view_count": null,
            "_view_module": "@jupyter-widgets/controls",
            "_view_module_version": "1.5.0",
            "_view_name": "HTMLView",
            "description": "",
            "description_tooltip": null,
            "layout": "IPY_MODEL_7b50cd2538a2447dbbbed0650ebfe2d8",
            "placeholder": "​",
            "style": "IPY_MODEL_2aa51bd132aa46149508846b770ecfdb",
            "value": " 50000/50000 [00:07&lt;00:00, 7720.00it/s]"
          }
        },
        "b536692f187440429cab0ee92b81832e": {
          "model_module": "@jupyter-widgets/base",
          "model_name": "LayoutModel",
          "model_module_version": "1.2.0",
          "state": {
            "_model_module": "@jupyter-widgets/base",
            "_model_module_version": "1.2.0",
            "_model_name": "LayoutModel",
            "_view_count": null,
            "_view_module": "@jupyter-widgets/base",
            "_view_module_version": "1.2.0",
            "_view_name": "LayoutView",
            "align_content": null,
            "align_items": null,
            "align_self": null,
            "border": null,
            "bottom": null,
            "display": null,
            "flex": null,
            "flex_flow": null,
            "grid_area": null,
            "grid_auto_columns": null,
            "grid_auto_flow": null,
            "grid_auto_rows": null,
            "grid_column": null,
            "grid_gap": null,
            "grid_row": null,
            "grid_template_areas": null,
            "grid_template_columns": null,
            "grid_template_rows": null,
            "height": null,
            "justify_content": null,
            "justify_items": null,
            "left": null,
            "margin": null,
            "max_height": null,
            "max_width": null,
            "min_height": null,
            "min_width": null,
            "object_fit": null,
            "object_position": null,
            "order": null,
            "overflow": null,
            "overflow_x": null,
            "overflow_y": null,
            "padding": null,
            "right": null,
            "top": null,
            "visibility": null,
            "width": null
          }
        },
        "f9a6052bdc02402ab2fdd901bb7bce56": {
          "model_module": "@jupyter-widgets/base",
          "model_name": "LayoutModel",
          "model_module_version": "1.2.0",
          "state": {
            "_model_module": "@jupyter-widgets/base",
            "_model_module_version": "1.2.0",
            "_model_name": "LayoutModel",
            "_view_count": null,
            "_view_module": "@jupyter-widgets/base",
            "_view_module_version": "1.2.0",
            "_view_name": "LayoutView",
            "align_content": null,
            "align_items": null,
            "align_self": null,
            "border": null,
            "bottom": null,
            "display": null,
            "flex": null,
            "flex_flow": null,
            "grid_area": null,
            "grid_auto_columns": null,
            "grid_auto_flow": null,
            "grid_auto_rows": null,
            "grid_column": null,
            "grid_gap": null,
            "grid_row": null,
            "grid_template_areas": null,
            "grid_template_columns": null,
            "grid_template_rows": null,
            "height": null,
            "justify_content": null,
            "justify_items": null,
            "left": null,
            "margin": null,
            "max_height": null,
            "max_width": null,
            "min_height": null,
            "min_width": null,
            "object_fit": null,
            "object_position": null,
            "order": null,
            "overflow": null,
            "overflow_x": null,
            "overflow_y": null,
            "padding": null,
            "right": null,
            "top": null,
            "visibility": null,
            "width": null
          }
        },
        "93f888e9ac82405ba7737f54f583b8eb": {
          "model_module": "@jupyter-widgets/controls",
          "model_name": "DescriptionStyleModel",
          "model_module_version": "1.5.0",
          "state": {
            "_model_module": "@jupyter-widgets/controls",
            "_model_module_version": "1.5.0",
            "_model_name": "DescriptionStyleModel",
            "_view_count": null,
            "_view_module": "@jupyter-widgets/base",
            "_view_module_version": "1.2.0",
            "_view_name": "StyleView",
            "description_width": ""
          }
        },
        "c55e21eca49840dab96464a42d405545": {
          "model_module": "@jupyter-widgets/base",
          "model_name": "LayoutModel",
          "model_module_version": "1.2.0",
          "state": {
            "_model_module": "@jupyter-widgets/base",
            "_model_module_version": "1.2.0",
            "_model_name": "LayoutModel",
            "_view_count": null,
            "_view_module": "@jupyter-widgets/base",
            "_view_module_version": "1.2.0",
            "_view_name": "LayoutView",
            "align_content": null,
            "align_items": null,
            "align_self": null,
            "border": null,
            "bottom": null,
            "display": null,
            "flex": null,
            "flex_flow": null,
            "grid_area": null,
            "grid_auto_columns": null,
            "grid_auto_flow": null,
            "grid_auto_rows": null,
            "grid_column": null,
            "grid_gap": null,
            "grid_row": null,
            "grid_template_areas": null,
            "grid_template_columns": null,
            "grid_template_rows": null,
            "height": null,
            "justify_content": null,
            "justify_items": null,
            "left": null,
            "margin": null,
            "max_height": null,
            "max_width": null,
            "min_height": null,
            "min_width": null,
            "object_fit": null,
            "object_position": null,
            "order": null,
            "overflow": null,
            "overflow_x": null,
            "overflow_y": null,
            "padding": null,
            "right": null,
            "top": null,
            "visibility": null,
            "width": null
          }
        },
        "164c65e93fb54c17b26c37e46dff214f": {
          "model_module": "@jupyter-widgets/controls",
          "model_name": "ProgressStyleModel",
          "model_module_version": "1.5.0",
          "state": {
            "_model_module": "@jupyter-widgets/controls",
            "_model_module_version": "1.5.0",
            "_model_name": "ProgressStyleModel",
            "_view_count": null,
            "_view_module": "@jupyter-widgets/base",
            "_view_module_version": "1.2.0",
            "_view_name": "StyleView",
            "bar_color": null,
            "description_width": ""
          }
        },
        "7b50cd2538a2447dbbbed0650ebfe2d8": {
          "model_module": "@jupyter-widgets/base",
          "model_name": "LayoutModel",
          "model_module_version": "1.2.0",
          "state": {
            "_model_module": "@jupyter-widgets/base",
            "_model_module_version": "1.2.0",
            "_model_name": "LayoutModel",
            "_view_count": null,
            "_view_module": "@jupyter-widgets/base",
            "_view_module_version": "1.2.0",
            "_view_name": "LayoutView",
            "align_content": null,
            "align_items": null,
            "align_self": null,
            "border": null,
            "bottom": null,
            "display": null,
            "flex": null,
            "flex_flow": null,
            "grid_area": null,
            "grid_auto_columns": null,
            "grid_auto_flow": null,
            "grid_auto_rows": null,
            "grid_column": null,
            "grid_gap": null,
            "grid_row": null,
            "grid_template_areas": null,
            "grid_template_columns": null,
            "grid_template_rows": null,
            "height": null,
            "justify_content": null,
            "justify_items": null,
            "left": null,
            "margin": null,
            "max_height": null,
            "max_width": null,
            "min_height": null,
            "min_width": null,
            "object_fit": null,
            "object_position": null,
            "order": null,
            "overflow": null,
            "overflow_x": null,
            "overflow_y": null,
            "padding": null,
            "right": null,
            "top": null,
            "visibility": null,
            "width": null
          }
        },
        "2aa51bd132aa46149508846b770ecfdb": {
          "model_module": "@jupyter-widgets/controls",
          "model_name": "DescriptionStyleModel",
          "model_module_version": "1.5.0",
          "state": {
            "_model_module": "@jupyter-widgets/controls",
            "_model_module_version": "1.5.0",
            "_model_name": "DescriptionStyleModel",
            "_view_count": null,
            "_view_module": "@jupyter-widgets/base",
            "_view_module_version": "1.2.0",
            "_view_name": "StyleView",
            "description_width": ""
          }
        }
      }
    }
  },
  "cells": [
    {
      "cell_type": "markdown",
      "source": [
        "Import Libraries"
      ],
      "metadata": {
        "id": "n0XlIZvF9P3G"
      }
    },
    {
      "cell_type": "code",
      "execution_count": 1,
      "metadata": {
        "id": "ycnIE_cD7BrK"
      },
      "outputs": [],
      "source": [
        "import torch\n",
        "import torch.nn as nn\n",
        "import torch.nn.functional as F\n",
        "from torch import optim\n",
        "from torch.optim.lr_scheduler import StepLR\n",
        "from torch.optim.lr_scheduler import OneCycleLR\n",
        "from torchvision import datasets\n",
        "from torchsummary import summary"
      ]
    },
    {
      "cell_type": "code",
      "source": [
        "import sys\n",
        "import numpy as np\n",
        "from PIL import Image\n",
        "from tqdm import tqdm_notebook"
      ],
      "metadata": {
        "id": "Su5N79YB9pYR"
      },
      "execution_count": 2,
      "outputs": []
    },
    {
      "cell_type": "code",
      "source": [
        "!pip install albumentations==0.4.6"
      ],
      "metadata": {
        "colab": {
          "base_uri": "https://localhost:8080/"
        },
        "id": "MN630vL39SIh",
        "outputId": "38f2d956-7404-4a50-9522-39b262362761"
      },
      "execution_count": 3,
      "outputs": [
        {
          "output_type": "stream",
          "name": "stdout",
          "text": [
            "Requirement already satisfied: albumentations==0.4.6 in /usr/local/lib/python3.10/dist-packages (0.4.6)\n",
            "Requirement already satisfied: numpy>=1.11.1 in /usr/local/lib/python3.10/dist-packages (from albumentations==0.4.6) (1.25.2)\n",
            "Requirement already satisfied: scipy in /usr/local/lib/python3.10/dist-packages (from albumentations==0.4.6) (1.11.4)\n",
            "Requirement already satisfied: imgaug>=0.4.0 in /usr/local/lib/python3.10/dist-packages (from albumentations==0.4.6) (0.4.0)\n",
            "Requirement already satisfied: PyYAML in /usr/local/lib/python3.10/dist-packages (from albumentations==0.4.6) (6.0.1)\n",
            "Requirement already satisfied: opencv-python>=4.1.1 in /usr/local/lib/python3.10/dist-packages (from albumentations==0.4.6) (4.8.0.76)\n",
            "Requirement already satisfied: six in /usr/local/lib/python3.10/dist-packages (from imgaug>=0.4.0->albumentations==0.4.6) (1.16.0)\n",
            "Requirement already satisfied: Pillow in /usr/local/lib/python3.10/dist-packages (from imgaug>=0.4.0->albumentations==0.4.6) (9.4.0)\n",
            "Requirement already satisfied: matplotlib in /usr/local/lib/python3.10/dist-packages (from imgaug>=0.4.0->albumentations==0.4.6) (3.7.1)\n",
            "Requirement already satisfied: scikit-image>=0.14.2 in /usr/local/lib/python3.10/dist-packages (from imgaug>=0.4.0->albumentations==0.4.6) (0.19.3)\n",
            "Requirement already satisfied: imageio in /usr/local/lib/python3.10/dist-packages (from imgaug>=0.4.0->albumentations==0.4.6) (2.31.6)\n",
            "Requirement already satisfied: Shapely in /usr/local/lib/python3.10/dist-packages (from imgaug>=0.4.0->albumentations==0.4.6) (2.0.3)\n",
            "Requirement already satisfied: networkx>=2.2 in /usr/local/lib/python3.10/dist-packages (from scikit-image>=0.14.2->imgaug>=0.4.0->albumentations==0.4.6) (3.2.1)\n",
            "Requirement already satisfied: tifffile>=2019.7.26 in /usr/local/lib/python3.10/dist-packages (from scikit-image>=0.14.2->imgaug>=0.4.0->albumentations==0.4.6) (2024.2.12)\n",
            "Requirement already satisfied: PyWavelets>=1.1.1 in /usr/local/lib/python3.10/dist-packages (from scikit-image>=0.14.2->imgaug>=0.4.0->albumentations==0.4.6) (1.5.0)\n",
            "Requirement already satisfied: packaging>=20.0 in /usr/local/lib/python3.10/dist-packages (from scikit-image>=0.14.2->imgaug>=0.4.0->albumentations==0.4.6) (24.0)\n",
            "Requirement already satisfied: contourpy>=1.0.1 in /usr/local/lib/python3.10/dist-packages (from matplotlib->imgaug>=0.4.0->albumentations==0.4.6) (1.2.0)\n",
            "Requirement already satisfied: cycler>=0.10 in /usr/local/lib/python3.10/dist-packages (from matplotlib->imgaug>=0.4.0->albumentations==0.4.6) (0.12.1)\n",
            "Requirement already satisfied: fonttools>=4.22.0 in /usr/local/lib/python3.10/dist-packages (from matplotlib->imgaug>=0.4.0->albumentations==0.4.6) (4.50.0)\n",
            "Requirement already satisfied: kiwisolver>=1.0.1 in /usr/local/lib/python3.10/dist-packages (from matplotlib->imgaug>=0.4.0->albumentations==0.4.6) (1.4.5)\n",
            "Requirement already satisfied: pyparsing>=2.3.1 in /usr/local/lib/python3.10/dist-packages (from matplotlib->imgaug>=0.4.0->albumentations==0.4.6) (3.1.2)\n",
            "Requirement already satisfied: python-dateutil>=2.7 in /usr/local/lib/python3.10/dist-packages (from matplotlib->imgaug>=0.4.0->albumentations==0.4.6) (2.8.2)\n"
          ]
        }
      ]
    },
    {
      "cell_type": "code",
      "source": [
        "import albumentations as A"
      ],
      "metadata": {
        "id": "1ez45MEN9aSY"
      },
      "execution_count": 4,
      "outputs": []
    },
    {
      "cell_type": "code",
      "source": [
        "#import data\n",
        "train = datasets.CIFAR10('./data', train=True, download=True)"
      ],
      "metadata": {
        "colab": {
          "base_uri": "https://localhost:8080/"
        },
        "id": "Iv6fHZd99vxf",
        "outputId": "c0ef014c-3597-4963-8b27-14f5a31bd512"
      },
      "execution_count": 5,
      "outputs": [
        {
          "output_type": "stream",
          "name": "stdout",
          "text": [
            "Files already downloaded and verified\n"
          ]
        }
      ]
    },
    {
      "cell_type": "code",
      "source": [
        "from google.colab import drive\n",
        "drive.mount('/content/drive')"
      ],
      "metadata": {
        "colab": {
          "base_uri": "https://localhost:8080/"
        },
        "id": "e6gJeRM_-pPj",
        "outputId": "6e0d551e-6e56-42f0-bc30-b4ee3790c923"
      },
      "execution_count": 6,
      "outputs": [
        {
          "output_type": "stream",
          "name": "stdout",
          "text": [
            "Drive already mounted at /content/drive; to attempt to forcibly remount, call drive.mount(\"/content/drive\", force_remount=True).\n"
          ]
        }
      ]
    },
    {
      "cell_type": "code",
      "source": [
        "%cd drive/MyDrive/ERA2/Session9"
      ],
      "metadata": {
        "colab": {
          "base_uri": "https://localhost:8080/"
        },
        "id": "dcRzxc6V92Gz",
        "outputId": "87f76013-e6bd-49a9-f9be-0659b67fae67"
      },
      "execution_count": 7,
      "outputs": [
        {
          "output_type": "stream",
          "name": "stdout",
          "text": [
            "/content/drive/MyDrive/ERA2/Session9\n"
          ]
        }
      ]
    },
    {
      "cell_type": "code",
      "source": [
        "import model9\n",
        "from model9 import CifarNet"
      ],
      "metadata": {
        "id": "FBmocsYa_JpR"
      },
      "execution_count": 8,
      "outputs": []
    },
    {
      "cell_type": "markdown",
      "source": [
        "Finding the mean and std for normaliation of images"
      ],
      "metadata": {
        "id": "BDz-wHR3ARUH"
      }
    },
    {
      "cell_type": "code",
      "source": [
        "n = 0\n",
        "s = np.zeros(3)\n",
        "sq = np.zeros(3)\n",
        "mean = np.zeros(3)\n",
        "variance = np.zeros(3)\n",
        "stand_dev = np.zeros(3)\n",
        "count = 0\n",
        "\n",
        "for data, l in tqdm_notebook(train):\n",
        "  # print(np.array(data).shape)\n",
        "  x = np.array(data)/255\n",
        "  # print(x.shape)\n",
        "  s += x.sum(axis=(0,1)) # this needs to be explained here (why 0,1). how does this work and why normalize and why not just scale to between 0 to 1 by dividing it by 255\n",
        "  sq += np.sum(np.square(x), axis=(0,1))  # the squared sum is calculated here for what purpose?\n",
        "  n += x.shape[0]*x.shape[1]\n",
        "  # print(s)\n",
        "  # print(n)\n",
        "\n",
        "  mean+=s/n\n",
        "  variance += np.square(s - mean)\n",
        "  stand_dev += np.sqrt(variance/n)\n",
        "  count+=1\n",
        "\n",
        "# here mean is calculated across all the channels  and  not just one channel\n",
        "mu = s/n\n",
        "# std = np.sqrt((s/n - mu)/1024)\n",
        "std = np.sqrt((sq/n - np.square(mu))) # how is this  equal to standard deviation?\n",
        "print(mu, sq/n, std, n)\n",
        "print(mean/count, stand_dev/count)"
      ],
      "metadata": {
        "colab": {
          "base_uri": "https://localhost:8080/",
          "height": 136,
          "referenced_widgets": [
            "03084bdab93c450aa449c96e2d38310e",
            "929a80864b664a22a0ef11d7f7d92a7e",
            "33ea1ca290074553902d5d91cfebdc8a",
            "1bd10c03bcba4abe94d26946ce8a5866",
            "b536692f187440429cab0ee92b81832e",
            "f9a6052bdc02402ab2fdd901bb7bce56",
            "93f888e9ac82405ba7737f54f583b8eb",
            "c55e21eca49840dab96464a42d405545",
            "164c65e93fb54c17b26c37e46dff214f",
            "7b50cd2538a2447dbbbed0650ebfe2d8",
            "2aa51bd132aa46149508846b770ecfdb"
          ]
        },
        "id": "cQeqUwVr_NSA",
        "outputId": "cb549686-06fe-4746-bfe3-e21572c69681"
      },
      "execution_count": 9,
      "outputs": [
        {
          "output_type": "stream",
          "name": "stderr",
          "text": [
            "<ipython-input-9-aa641629515e>:9: TqdmDeprecationWarning: This function will be removed in tqdm==5.0.0\n",
            "Please use `tqdm.notebook.tqdm` instead of `tqdm.tqdm_notebook`\n",
            "  for data, l in tqdm_notebook(train):\n"
          ]
        },
        {
          "output_type": "display_data",
          "data": {
            "text/plain": [
              "  0%|          | 0/50000 [00:00<?, ?it/s]"
            ],
            "application/vnd.jupyter.widget-view+json": {
              "version_major": 2,
              "version_minor": 0,
              "model_id": "03084bdab93c450aa449c96e2d38310e"
            }
          },
          "metadata": {}
        },
        {
          "output_type": "stream",
          "name": "stdout",
          "text": [
            "[0.49139968 0.48215841 0.44653091] [0.30249857 0.29176174 0.26781806] [0.24703223 0.24348513 0.26158784] 51200000\n",
            "[0.49196659 0.48229005 0.4461573 ] [227115.06139745 222630.84598793 205985.90869157]\n"
          ]
        }
      ]
    },
    {
      "cell_type": "code",
      "source": [
        "import torchvision\n",
        "class Cifar10SearchDataset(torchvision.datasets.CIFAR10):\n",
        "    def __init__(self, root=\"~/data/cifar10\", train=True, download=True, transform=None):\n",
        "        super().__init__(root=root, train=train, download=download, transform=transform)\n",
        "\n",
        "    def __getitem__(self, index):\n",
        "        image, label = self.data[index], self.targets[index]\n",
        "\n",
        "        if self.transform is not None:\n",
        "            transformed = self.transform(image=image)\n",
        "            image = transformed[\"image\"]\n",
        "\n",
        "        return image, label"
      ],
      "metadata": {
        "id": "2ZIIzuPVAVQr"
      },
      "execution_count": 10,
      "outputs": []
    },
    {
      "cell_type": "code",
      "source": [
        "from torchvision import transforms\n",
        "from albumentations.pytorch.transforms import ToTensor\n",
        "\n",
        "channel_means = (0.49196659, 0.48229005, 0.4461573)\n",
        "channel_stdevs = (0.24703223, 0.24348513, 0.26158784)\n",
        "fillmeans = tuple((np.array(channel_means)*255).astype(np.uint8))\n",
        "# this is  to fill the empty spaces with  means of the channels multiplies by 255 to revert back to an image in that range\n",
        "print(fillmeans, 'This is the value filled  at the time of rotation')\n",
        "train_transforms = A.Compose([A.ShiftScaleRotate((-10.5,10.5)),\n",
        "                              A.HorizontalFlip(),\n",
        "                              A.CoarseDropout(max_holes = 1, max_height=16, max_width=16, min_holes = 1, min_height=4, min_width=4, fill_value=channel_means),\n",
        "                              A.Normalize(mean=channel_means, std=channel_stdevs),\n",
        "                              ToTensor(),\n",
        "                              ])\n",
        "\n",
        "# Test Phase transformations\n",
        "test_transforms = A.Compose([A.Normalize(mean=channel_means, std=channel_stdevs), ToTensor(),])"
      ],
      "metadata": {
        "colab": {
          "base_uri": "https://localhost:8080/"
        },
        "id": "Msqxq1cAAdaY",
        "outputId": "2f53d4d4-2cba-40a7-c78d-cfc59ea3e9bd"
      },
      "execution_count": 11,
      "outputs": [
        {
          "output_type": "stream",
          "name": "stdout",
          "text": [
            "(125, 122, 113) This is the value filled  at the time of rotation\n"
          ]
        }
      ]
    },
    {
      "cell_type": "code",
      "source": [
        "train = Cifar10SearchDataset( train=True, download=True, transform=train_transforms)\n",
        "test = Cifar10SearchDataset( train=False, download=True, transform=test_transforms)"
      ],
      "metadata": {
        "colab": {
          "base_uri": "https://localhost:8080/"
        },
        "id": "uPR9IPIzAhTu",
        "outputId": "6b25a000-13fb-4379-91ba-66e0293926f5"
      },
      "execution_count": 12,
      "outputs": [
        {
          "output_type": "stream",
          "name": "stdout",
          "text": [
            "Downloading https://www.cs.toronto.edu/~kriz/cifar-10-python.tar.gz to /root/data/cifar10/cifar-10-python.tar.gz\n"
          ]
        },
        {
          "output_type": "stream",
          "name": "stderr",
          "text": [
            "100%|██████████| 170498071/170498071 [00:06<00:00, 28239107.23it/s]\n"
          ]
        },
        {
          "output_type": "stream",
          "name": "stdout",
          "text": [
            "Extracting /root/data/cifar10/cifar-10-python.tar.gz to /root/data/cifar10\n",
            "Files already downloaded and verified\n"
          ]
        }
      ]
    },
    {
      "cell_type": "code",
      "source": [
        "seed = 1\n",
        "batch_size = 64\n",
        "\n",
        "cuda = torch.cuda.is_available()\n",
        "if cuda:\n",
        "    torch.cuda.manual_seed(seed)\n",
        "    dataloader_args = dict(shuffle=True, batch_size=batch_size, num_workers=4, pin_memory=True)\n",
        "\n",
        "train_loader = torch.utils.data.DataLoader(train, **dataloader_args)\n",
        "test_loader = torch.utils.data.DataLoader(test, **dataloader_args)\n",
        ""
      ],
      "metadata": {
        "colab": {
          "base_uri": "https://localhost:8080/"
        },
        "id": "g_KlO6n6BuP4",
        "outputId": "c95151b6-1e5d-4b49-a7fd-a18c59ae2d88"
      },
      "execution_count": 13,
      "outputs": [
        {
          "output_type": "stream",
          "name": "stderr",
          "text": [
            "/usr/local/lib/python3.10/dist-packages/torch/utils/data/dataloader.py:558: UserWarning: This DataLoader will create 4 worker processes in total. Our suggested max number of worker in current system is 2, which is smaller than what this DataLoader is going to create. Please be aware that excessive worker creation might get DataLoader running slow or even freeze, lower the worker number to avoid potential slowness/freeze if necessary.\n",
            "  warnings.warn(_create_warning_msg(\n"
          ]
        }
      ]
    },
    {
      "cell_type": "code",
      "source": [
        "# from __future__ import print_function\n",
        "# channel_means = (0.49196659, 0.48229005, 0.4461573)\n",
        "# channel_stdevs = (0.24703223, 0.24348513, 0.26158784)\n",
        "# def unnormalize(img):\n",
        "#   img = img.numpy().astype(dtype=np.float32)\n",
        "\n",
        "#   for i in range(img.shape[0]):\n",
        "#     img[i] = (img[i]*channel_stdevs[i])+channel_means[i]\n",
        "\n",
        "#   return np.transpose(img, (1,2,0))\n",
        "#   #return np.transpose(img, (1, 2, 0))\n",
        "\n",
        "# %matplotlib inline\n",
        "# import matplotlib.pyplot as plt\n",
        "# dataiter = iter(train_loader)\n",
        "# images, labels = dataiter.next()\n",
        "\n",
        "# print(images.shape)\n",
        "# print(labels.shape)\n",
        "\n",
        "# num_classes = 10\n",
        "# # display 10 images from each category.\n",
        "# class_names = ['airplane','automobile','bird','cat','deer',\n",
        "#                'dog','frog','horse','ship','truck']\n",
        "# r, c = 10, 11\n",
        "# n = 5\n",
        "# fig = plt.figure(figsize=(7,7))\n",
        "# fig.subplots_adjust(hspace=0.01, wspace=0.01)\n",
        "# for i in range(num_classes):\n",
        "#     idx = np.random.choice(np.where(labels[:]==i)[0], n)\n",
        "#     ax = plt.subplot(r, c, i*c+1)\n",
        "#     ax.text(-1.5, 0.5, class_names[i], fontsize=14)\n",
        "#     plt.axis('off')\n",
        "#     for j in range(1, n+1):\n",
        "#       plt.subplot(r, c, i*c+j+1)\n",
        "#       plt.imshow(unnormalize(images[idx[j-1]]), interpolation='none')\n",
        "#       plt.axis('off')\n",
        "# plt.show()"
      ],
      "metadata": {
        "id": "nCB5VoTtB0Ue"
      },
      "execution_count": 15,
      "outputs": []
    },
    {
      "cell_type": "code",
      "source": [
        "from tqdm import tqdm\n",
        "\n",
        "train_losses = []\n",
        "test_losses = []\n",
        "train_acc = []\n",
        "test_acc = []\n",
        "\n",
        "def train(model, device, train_loader, optimizer, epoch):\n",
        "  model.train()\n",
        "  pbar = tqdm(train_loader)\n",
        "  correct = 0\n",
        "  processed = 0\n",
        "  for batch_idx, (data, target) in enumerate(pbar):\n",
        "    data, target = data.to(device), target.to(device)\n",
        "    optimizer.zero_grad()\n",
        "    y_pred = model(data)\n",
        "    loss = F.nll_loss(y_pred, target)\n",
        "    train_losses.append(loss)\n",
        "    loss.backward()\n",
        "    optimizer.step()\n",
        "    pred = y_pred.argmax(dim=1, keepdim=True)  # get the index of the max log-probability\n",
        "    correct += pred.eq(target.view_as(pred)).sum().item()\n",
        "    processed += len(data)\n",
        "    pbar.set_description(desc= f'Loss={loss.item()} Batch_id={batch_idx} Accuracy={100*correct/processed:0.2f}')\n",
        "    train_acc.append(100*correct/processed)\n",
        "\n",
        "def test(model, device, test_loader):\n",
        "    model.eval()\n",
        "    test_loss = 0\n",
        "    correct = 0\n",
        "    with torch.no_grad():\n",
        "        for data, target in test_loader:\n",
        "            data, target = data.to(device), target.to(device)\n",
        "            output = model(data)\n",
        "            test_loss += F.nll_loss(output, target, reduction='sum').item()  # sum up batch loss\n",
        "            pred = output.argmax(dim=1, keepdim=True)  # get the index of the max log-probability\n",
        "            correct += pred.eq(target.view_as(pred)).sum().item()\n",
        "\n",
        "    test_loss /= len(test_loader.dataset)\n",
        "    test_losses.append(test_loss)\n",
        "\n",
        "    print('\\nTest set: Average loss: {:.4f}, Accuracy: {}/{} ({:.2f}%)\\n'.format(\n",
        "        test_loss, correct, len(test_loader.dataset),\n",
        "        100. * correct / len(test_loader.dataset)))\n",
        "\n",
        "    test_acc.append(100. * correct / len(test_loader.dataset))\n",
        "\n"
      ],
      "metadata": {
        "id": "QbkaswjZCUlT"
      },
      "execution_count": 16,
      "outputs": []
    },
    {
      "cell_type": "code",
      "source": [
        "use_cuda = torch.cuda.is_available()\n",
        "device = torch.device(\"cuda\" if use_cuda else \"cpu\")\n",
        "print(device)"
      ],
      "metadata": {
        "colab": {
          "base_uri": "https://localhost:8080/"
        },
        "id": "GBqGQi2fDDwW",
        "outputId": "e9503251-677f-4537-ce77-7361eeff2f45"
      },
      "execution_count": 19,
      "outputs": [
        {
          "output_type": "stream",
          "name": "stdout",
          "text": [
            "cuda\n"
          ]
        }
      ]
    },
    {
      "cell_type": "code",
      "source": [
        "model = CifarNet().to(device)\n",
        "summary(model, input_size=(3, 32, 32))"
      ],
      "metadata": {
        "colab": {
          "base_uri": "https://localhost:8080/"
        },
        "id": "u-3LDMagCcJ5",
        "outputId": "e8ace7c5-4e73-4ef2-e567-67e58ba6da65"
      },
      "execution_count": 20,
      "outputs": [
        {
          "output_type": "stream",
          "name": "stdout",
          "text": [
            "----------------------------------------------------------------\n",
            "        Layer (type)               Output Shape         Param #\n",
            "================================================================\n",
            "            Conv2d-1           [-1, 16, 32, 32]             448\n",
            "              ReLU-2           [-1, 16, 32, 32]               0\n",
            "       BatchNorm2d-3           [-1, 16, 32, 32]              32\n",
            "            Conv2d-4           [-1, 16, 32, 32]           2,320\n",
            "              ReLU-5           [-1, 16, 32, 32]               0\n",
            "       BatchNorm2d-6           [-1, 16, 32, 32]              32\n",
            "            Conv2d-7           [-1, 16, 16, 16]           2,320\n",
            "            Conv2d-8           [-1, 16, 16, 16]             272\n",
            "            Conv2d-9           [-1, 16, 16, 16]             160\n",
            "           Conv2d-10           [-1, 32, 16, 16]             544\n",
            "             ReLU-11           [-1, 32, 16, 16]               0\n",
            "      BatchNorm2d-12           [-1, 32, 16, 16]              64\n",
            "           Conv2d-13           [-1, 32, 16, 16]           9,248\n",
            "             ReLU-14           [-1, 32, 16, 16]               0\n",
            "      BatchNorm2d-15           [-1, 32, 16, 16]              64\n",
            "           Conv2d-16             [-1, 32, 8, 8]           9,248\n",
            "           Conv2d-17             [-1, 32, 8, 8]           1,056\n",
            "           Conv2d-18             [-1, 32, 8, 8]             320\n",
            "           Conv2d-19             [-1, 64, 8, 8]           2,112\n",
            "             ReLU-20             [-1, 64, 8, 8]               0\n",
            "      BatchNorm2d-21             [-1, 64, 8, 8]             128\n",
            "           Conv2d-22             [-1, 64, 8, 8]          36,928\n",
            "             ReLU-23             [-1, 64, 8, 8]               0\n",
            "      BatchNorm2d-24             [-1, 64, 8, 8]             128\n",
            "           Conv2d-25             [-1, 64, 4, 4]          36,928\n",
            "           Conv2d-26             [-1, 64, 4, 4]           4,160\n",
            "           Conv2d-27             [-1, 64, 4, 4]             640\n",
            "           Conv2d-28            [-1, 128, 4, 4]           8,320\n",
            "             ReLU-29            [-1, 128, 4, 4]               0\n",
            "      BatchNorm2d-30            [-1, 128, 4, 4]             256\n",
            "           Conv2d-31            [-1, 128, 4, 4]           1,280\n",
            "           Conv2d-32            [-1, 256, 4, 4]          33,024\n",
            "             ReLU-33            [-1, 256, 4, 4]               0\n",
            "      BatchNorm2d-34            [-1, 256, 4, 4]             512\n",
            "        AvgPool2d-35            [-1, 256, 1, 1]               0\n",
            "           Conv2d-36             [-1, 10, 1, 1]           2,560\n",
            "================================================================\n",
            "Total params: 153,104\n",
            "Trainable params: 153,104\n",
            "Non-trainable params: 0\n",
            "----------------------------------------------------------------\n",
            "Input size (MB): 0.01\n",
            "Forward/backward pass size (MB): 1.63\n",
            "Params size (MB): 0.58\n",
            "Estimated Total Size (MB): 2.23\n",
            "----------------------------------------------------------------\n"
          ]
        }
      ]
    },
    {
      "cell_type": "code",
      "source": [],
      "metadata": {
        "id": "QyLf-LFmCtK0"
      },
      "execution_count": null,
      "outputs": []
    },
    {
      "cell_type": "code",
      "source": [
        "EPOCHS = 250\n",
        "\n",
        "\n",
        "optimizer = optim.SGD(model.parameters(), lr=0.01, momentum=0.9)\n",
        "scheduler = torch.optim.lr_scheduler.OneCycleLR(optimizer, max_lr=0.5, steps_per_epoch=len(train_loader), epochs=EPOCHS)\n",
        "\n",
        "\n",
        "for epoch in range(EPOCHS):\n",
        "  print(\"EPOCH:\", epoch)\n",
        "  train(model, device, train_loader, optimizer, epoch)\n",
        "  scheduler.step()\n",
        "  test(model, device, test_loader)"
      ],
      "metadata": {
        "colab": {
          "base_uri": "https://localhost:8080/"
        },
        "id": "xBQ9LAcpCtIA",
        "outputId": "8d69eff7-0142-44e8-d281-91435f5b43a8"
      },
      "execution_count": 21,
      "outputs": [
        {
          "metadata": {
            "tags": null
          },
          "name": "stdout",
          "output_type": "stream",
          "text": [
            "EPOCH: 0\n"
          ]
        },
        {
          "metadata": {
            "tags": null
          },
          "name": "stderr",
          "output_type": "stream",
          "text": [
            "Loss=1.9799057245254517 Batch_id=781 Accuracy=29.65: 100%|██████████| 782/782 [00:17<00:00, 44.66it/s]\n"
          ]
        },
        {
          "metadata": {
            "tags": null
          },
          "name": "stdout",
          "output_type": "stream",
          "text": [
            "\n",
            "Test set: Average loss: 1.5681, Accuracy: 4380/10000 (43.80%)\n",
            "\n",
            "EPOCH: 1\n"
          ]
        },
        {
          "metadata": {
            "tags": null
          },
          "name": "stderr",
          "output_type": "stream",
          "text": [
            "Loss=1.5603795051574707 Batch_id=781 Accuracy=38.41: 100%|██████████| 782/782 [00:16<00:00, 46.05it/s]\n"
          ]
        },
        {
          "metadata": {
            "tags": null
          },
          "name": "stdout",
          "output_type": "stream",
          "text": [
            "\n",
            "Test set: Average loss: 1.3241, Accuracy: 5209/10000 (52.09%)\n",
            "\n",
            "EPOCH: 2\n"
          ]
        },
        {
          "metadata": {
            "tags": null
          },
          "name": "stderr",
          "output_type": "stream",
          "text": [
            "Loss=1.6567147970199585 Batch_id=781 Accuracy=42.76: 100%|██████████| 782/782 [00:17<00:00, 43.76it/s]\n"
          ]
        },
        {
          "metadata": {
            "tags": null
          },
          "name": "stdout",
          "output_type": "stream",
          "text": [
            "\n",
            "Test set: Average loss: 1.2598, Accuracy: 5508/10000 (55.08%)\n",
            "\n",
            "EPOCH: 3\n"
          ]
        },
        {
          "metadata": {
            "tags": null
          },
          "name": "stderr",
          "output_type": "stream",
          "text": [
            "Loss=1.6790026426315308 Batch_id=781 Accuracy=45.62: 100%|██████████| 782/782 [00:16<00:00, 46.59it/s]\n"
          ]
        },
        {
          "metadata": {
            "tags": null
          },
          "name": "stdout",
          "output_type": "stream",
          "text": [
            "\n",
            "Test set: Average loss: 1.1284, Accuracy: 5988/10000 (59.88%)\n",
            "\n",
            "EPOCH: 4\n"
          ]
        },
        {
          "metadata": {
            "tags": null
          },
          "name": "stderr",
          "output_type": "stream",
          "text": [
            "Loss=1.510058879852295 Batch_id=781 Accuracy=47.93: 100%|██████████| 782/782 [00:16<00:00, 46.65it/s]\n"
          ]
        },
        {
          "metadata": {
            "tags": null
          },
          "name": "stdout",
          "output_type": "stream",
          "text": [
            "\n",
            "Test set: Average loss: 1.0918, Accuracy: 6112/10000 (61.12%)\n",
            "\n",
            "EPOCH: 5\n"
          ]
        },
        {
          "metadata": {
            "tags": null
          },
          "name": "stderr",
          "output_type": "stream",
          "text": [
            "Loss=1.4853674173355103 Batch_id=781 Accuracy=50.02: 100%|██████████| 782/782 [00:17<00:00, 45.12it/s]\n"
          ]
        },
        {
          "metadata": {
            "tags": null
          },
          "name": "stdout",
          "output_type": "stream",
          "text": [
            "\n",
            "Test set: Average loss: 1.0198, Accuracy: 6362/10000 (63.62%)\n",
            "\n",
            "EPOCH: 6\n"
          ]
        },
        {
          "metadata": {
            "tags": null
          },
          "name": "stderr",
          "output_type": "stream",
          "text": [
            "Loss=1.3544721603393555 Batch_id=781 Accuracy=51.20: 100%|██████████| 782/782 [00:16<00:00, 46.56it/s]\n"
          ]
        },
        {
          "metadata": {
            "tags": null
          },
          "name": "stdout",
          "output_type": "stream",
          "text": [
            "\n",
            "Test set: Average loss: 0.9936, Accuracy: 6555/10000 (65.55%)\n",
            "\n",
            "EPOCH: 7\n"
          ]
        },
        {
          "metadata": {
            "tags": null
          },
          "name": "stderr",
          "output_type": "stream",
          "text": [
            "Loss=1.6586512327194214 Batch_id=781 Accuracy=52.82: 100%|██████████| 782/782 [00:16<00:00, 46.72it/s]\n"
          ]
        },
        {
          "metadata": {
            "tags": null
          },
          "name": "stdout",
          "output_type": "stream",
          "text": [
            "\n",
            "Test set: Average loss: 0.9400, Accuracy: 6665/10000 (66.65%)\n",
            "\n",
            "EPOCH: 8\n"
          ]
        },
        {
          "metadata": {
            "tags": null
          },
          "name": "stderr",
          "output_type": "stream",
          "text": [
            "Loss=1.6904160976409912 Batch_id=781 Accuracy=53.25: 100%|██████████| 782/782 [00:17<00:00, 44.39it/s]\n"
          ]
        },
        {
          "metadata": {
            "tags": null
          },
          "name": "stdout",
          "output_type": "stream",
          "text": [
            "\n",
            "Test set: Average loss: 0.9684, Accuracy: 6625/10000 (66.25%)\n",
            "\n",
            "EPOCH: 9\n"
          ]
        },
        {
          "metadata": {
            "tags": null
          },
          "name": "stderr",
          "output_type": "stream",
          "text": [
            "Loss=1.3127408027648926 Batch_id=781 Accuracy=54.28: 100%|██████████| 782/782 [00:16<00:00, 46.46it/s]\n"
          ]
        },
        {
          "metadata": {
            "tags": null
          },
          "name": "stdout",
          "output_type": "stream",
          "text": [
            "\n",
            "Test set: Average loss: 0.9316, Accuracy: 6762/10000 (67.62%)\n",
            "\n",
            "EPOCH: 10\n"
          ]
        },
        {
          "metadata": {
            "tags": null
          },
          "name": "stderr",
          "output_type": "stream",
          "text": [
            "Loss=1.5107271671295166 Batch_id=781 Accuracy=55.07: 100%|██████████| 782/782 [00:16<00:00, 46.20it/s]\n"
          ]
        },
        {
          "metadata": {
            "tags": null
          },
          "name": "stdout",
          "output_type": "stream",
          "text": [
            "\n",
            "Test set: Average loss: 0.8618, Accuracy: 6995/10000 (69.95%)\n",
            "\n",
            "EPOCH: 11\n"
          ]
        },
        {
          "metadata": {
            "tags": null
          },
          "name": "stderr",
          "output_type": "stream",
          "text": [
            "Loss=1.765259027481079 Batch_id=781 Accuracy=56.25: 100%|██████████| 782/782 [00:17<00:00, 43.99it/s]\n"
          ]
        },
        {
          "metadata": {
            "tags": null
          },
          "name": "stdout",
          "output_type": "stream",
          "text": [
            "\n",
            "Test set: Average loss: 0.8324, Accuracy: 7011/10000 (70.11%)\n",
            "\n",
            "EPOCH: 12\n"
          ]
        },
        {
          "metadata": {
            "tags": null
          },
          "name": "stderr",
          "output_type": "stream",
          "text": [
            "Loss=1.362784504890442 Batch_id=781 Accuracy=56.96: 100%|██████████| 782/782 [00:16<00:00, 46.40it/s]\n"
          ]
        },
        {
          "metadata": {
            "tags": null
          },
          "name": "stdout",
          "output_type": "stream",
          "text": [
            "\n",
            "Test set: Average loss: 0.8154, Accuracy: 7166/10000 (71.66%)\n",
            "\n",
            "EPOCH: 13\n"
          ]
        },
        {
          "metadata": {
            "tags": null
          },
          "name": "stderr",
          "output_type": "stream",
          "text": [
            "Loss=1.1311633586883545 Batch_id=781 Accuracy=57.72: 100%|██████████| 782/782 [00:16<00:00, 46.09it/s]\n"
          ]
        },
        {
          "metadata": {
            "tags": null
          },
          "name": "stdout",
          "output_type": "stream",
          "text": [
            "\n",
            "Test set: Average loss: 0.8386, Accuracy: 7113/10000 (71.13%)\n",
            "\n",
            "EPOCH: 14\n"
          ]
        },
        {
          "metadata": {
            "tags": null
          },
          "name": "stderr",
          "output_type": "stream",
          "text": [
            "Loss=0.8620774149894714 Batch_id=781 Accuracy=57.84: 100%|██████████| 782/782 [00:17<00:00, 44.02it/s]\n"
          ]
        },
        {
          "metadata": {
            "tags": null
          },
          "name": "stdout",
          "output_type": "stream",
          "text": [
            "\n",
            "Test set: Average loss: 0.8131, Accuracy: 7138/10000 (71.38%)\n",
            "\n",
            "EPOCH: 15\n"
          ]
        },
        {
          "metadata": {
            "tags": null
          },
          "name": "stderr",
          "output_type": "stream",
          "text": [
            "Loss=1.212066411972046 Batch_id=781 Accuracy=58.42: 100%|██████████| 782/782 [00:16<00:00, 46.37it/s]\n"
          ]
        },
        {
          "metadata": {
            "tags": null
          },
          "name": "stdout",
          "output_type": "stream",
          "text": [
            "\n",
            "Test set: Average loss: 0.7840, Accuracy: 7260/10000 (72.60%)\n",
            "\n",
            "EPOCH: 16\n"
          ]
        },
        {
          "metadata": {
            "tags": null
          },
          "name": "stderr",
          "output_type": "stream",
          "text": [
            "Loss=1.3625985383987427 Batch_id=781 Accuracy=59.06: 100%|██████████| 782/782 [00:16<00:00, 46.09it/s]\n"
          ]
        },
        {
          "metadata": {
            "tags": null
          },
          "name": "stdout",
          "output_type": "stream",
          "text": [
            "\n",
            "Test set: Average loss: 0.7684, Accuracy: 7307/10000 (73.07%)\n",
            "\n",
            "EPOCH: 17\n"
          ]
        },
        {
          "metadata": {
            "tags": null
          },
          "name": "stderr",
          "output_type": "stream",
          "text": [
            "Loss=1.0410969257354736 Batch_id=781 Accuracy=59.32: 100%|██████████| 782/782 [00:18<00:00, 43.17it/s]\n"
          ]
        },
        {
          "metadata": {
            "tags": null
          },
          "name": "stdout",
          "output_type": "stream",
          "text": [
            "\n",
            "Test set: Average loss: 0.7394, Accuracy: 7413/10000 (74.13%)\n",
            "\n",
            "EPOCH: 18\n"
          ]
        },
        {
          "metadata": {
            "tags": null
          },
          "name": "stderr",
          "output_type": "stream",
          "text": [
            "Loss=1.1155000925064087 Batch_id=781 Accuracy=60.01: 100%|██████████| 782/782 [00:16<00:00, 46.65it/s]\n"
          ]
        },
        {
          "metadata": {
            "tags": null
          },
          "name": "stdout",
          "output_type": "stream",
          "text": [
            "\n",
            "Test set: Average loss: 0.7594, Accuracy: 7348/10000 (73.48%)\n",
            "\n",
            "EPOCH: 19\n"
          ]
        },
        {
          "metadata": {
            "tags": null
          },
          "name": "stderr",
          "output_type": "stream",
          "text": [
            "Loss=1.048511266708374 Batch_id=781 Accuracy=60.33: 100%|██████████| 782/782 [00:17<00:00, 46.00it/s]\n"
          ]
        },
        {
          "metadata": {
            "tags": null
          },
          "name": "stdout",
          "output_type": "stream",
          "text": [
            "\n",
            "Test set: Average loss: 0.7448, Accuracy: 7438/10000 (74.38%)\n",
            "\n",
            "EPOCH: 20\n"
          ]
        },
        {
          "metadata": {
            "tags": null
          },
          "name": "stderr",
          "output_type": "stream",
          "text": [
            "Loss=1.3985192775726318 Batch_id=781 Accuracy=60.39: 100%|██████████| 782/782 [00:18<00:00, 42.79it/s]\n"
          ]
        },
        {
          "metadata": {
            "tags": null
          },
          "name": "stdout",
          "output_type": "stream",
          "text": [
            "\n",
            "Test set: Average loss: 0.7191, Accuracy: 7517/10000 (75.17%)\n",
            "\n",
            "EPOCH: 21\n"
          ]
        },
        {
          "metadata": {
            "tags": null
          },
          "name": "stderr",
          "output_type": "stream",
          "text": [
            "Loss=1.0303062200546265 Batch_id=781 Accuracy=61.57: 100%|██████████| 782/782 [00:16<00:00, 46.15it/s]\n"
          ]
        },
        {
          "metadata": {
            "tags": null
          },
          "name": "stdout",
          "output_type": "stream",
          "text": [
            "\n",
            "Test set: Average loss: 0.7055, Accuracy: 7556/10000 (75.56%)\n",
            "\n",
            "EPOCH: 22\n"
          ]
        },
        {
          "metadata": {
            "tags": null
          },
          "name": "stderr",
          "output_type": "stream",
          "text": [
            "Loss=1.1683354377746582 Batch_id=781 Accuracy=61.42: 100%|██████████| 782/782 [00:16<00:00, 46.56it/s]\n"
          ]
        },
        {
          "metadata": {
            "tags": null
          },
          "name": "stdout",
          "output_type": "stream",
          "text": [
            "\n",
            "Test set: Average loss: 0.6683, Accuracy: 7654/10000 (76.54%)\n",
            "\n",
            "EPOCH: 23\n"
          ]
        },
        {
          "metadata": {
            "tags": null
          },
          "name": "stderr",
          "output_type": "stream",
          "text": [
            "Loss=0.7536242008209229 Batch_id=781 Accuracy=61.72: 100%|██████████| 782/782 [00:18<00:00, 43.30it/s]\n"
          ]
        },
        {
          "metadata": {
            "tags": null
          },
          "name": "stdout",
          "output_type": "stream",
          "text": [
            "\n",
            "Test set: Average loss: 0.7115, Accuracy: 7500/10000 (75.00%)\n",
            "\n",
            "EPOCH: 24\n"
          ]
        },
        {
          "metadata": {
            "tags": null
          },
          "name": "stderr",
          "output_type": "stream",
          "text": [
            "Loss=1.493166208267212 Batch_id=781 Accuracy=62.11: 100%|██████████| 782/782 [00:16<00:00, 46.51it/s]\n"
          ]
        },
        {
          "metadata": {
            "tags": null
          },
          "name": "stdout",
          "output_type": "stream",
          "text": [
            "\n",
            "Test set: Average loss: 0.6799, Accuracy: 7659/10000 (76.59%)\n",
            "\n",
            "EPOCH: 25\n"
          ]
        },
        {
          "metadata": {
            "tags": null
          },
          "name": "stderr",
          "output_type": "stream",
          "text": [
            "Loss=0.9548766613006592 Batch_id=781 Accuracy=62.92: 100%|██████████| 782/782 [00:16<00:00, 46.42it/s]\n"
          ]
        },
        {
          "metadata": {
            "tags": null
          },
          "name": "stdout",
          "output_type": "stream",
          "text": [
            "\n",
            "Test set: Average loss: 0.6666, Accuracy: 7692/10000 (76.92%)\n",
            "\n",
            "EPOCH: 26\n"
          ]
        },
        {
          "metadata": {
            "tags": null
          },
          "name": "stderr",
          "output_type": "stream",
          "text": [
            "Loss=0.753520667552948 Batch_id=781 Accuracy=62.85: 100%|██████████| 782/782 [00:17<00:00, 44.37it/s]\n"
          ]
        },
        {
          "metadata": {
            "tags": null
          },
          "name": "stdout",
          "output_type": "stream",
          "text": [
            "\n",
            "Test set: Average loss: 0.6936, Accuracy: 7642/10000 (76.42%)\n",
            "\n",
            "EPOCH: 27\n"
          ]
        },
        {
          "metadata": {
            "tags": null
          },
          "name": "stderr",
          "output_type": "stream",
          "text": [
            "Loss=0.8630440831184387 Batch_id=781 Accuracy=63.09: 100%|██████████| 782/782 [00:16<00:00, 46.85it/s]\n"
          ]
        },
        {
          "metadata": {
            "tags": null
          },
          "name": "stdout",
          "output_type": "stream",
          "text": [
            "\n",
            "Test set: Average loss: 0.6630, Accuracy: 7737/10000 (77.37%)\n",
            "\n",
            "EPOCH: 28\n"
          ]
        },
        {
          "metadata": {
            "tags": null
          },
          "name": "stderr",
          "output_type": "stream",
          "text": [
            "Loss=1.1813448667526245 Batch_id=781 Accuracy=63.44: 100%|██████████| 782/782 [00:17<00:00, 44.55it/s]\n"
          ]
        },
        {
          "metadata": {
            "tags": null
          },
          "name": "stdout",
          "output_type": "stream",
          "text": [
            "\n",
            "Test set: Average loss: 0.6200, Accuracy: 7858/10000 (78.58%)\n",
            "\n",
            "EPOCH: 29\n"
          ]
        },
        {
          "metadata": {
            "tags": null
          },
          "name": "stderr",
          "output_type": "stream",
          "text": [
            "Loss=1.1509552001953125 Batch_id=781 Accuracy=63.88: 100%|██████████| 782/782 [00:18<00:00, 41.78it/s]\n"
          ]
        },
        {
          "metadata": {
            "tags": null
          },
          "name": "stdout",
          "output_type": "stream",
          "text": [
            "\n",
            "Test set: Average loss: 0.6240, Accuracy: 7889/10000 (78.89%)\n",
            "\n",
            "EPOCH: 30\n"
          ]
        },
        {
          "metadata": {
            "tags": null
          },
          "name": "stderr",
          "output_type": "stream",
          "text": [
            "Loss=0.7362639307975769 Batch_id=781 Accuracy=64.06: 100%|██████████| 782/782 [00:17<00:00, 44.71it/s]\n"
          ]
        },
        {
          "metadata": {
            "tags": null
          },
          "name": "stdout",
          "output_type": "stream",
          "text": [
            "\n",
            "Test set: Average loss: 0.6118, Accuracy: 7876/10000 (78.76%)\n",
            "\n",
            "EPOCH: 31\n"
          ]
        },
        {
          "metadata": {
            "tags": null
          },
          "name": "stderr",
          "output_type": "stream",
          "text": [
            "Loss=0.7848726511001587 Batch_id=781 Accuracy=64.74: 100%|██████████| 782/782 [00:17<00:00, 45.58it/s]\n"
          ]
        },
        {
          "metadata": {
            "tags": null
          },
          "name": "stdout",
          "output_type": "stream",
          "text": [
            "\n",
            "Test set: Average loss: 0.6159, Accuracy: 7886/10000 (78.86%)\n",
            "\n",
            "EPOCH: 32\n"
          ]
        },
        {
          "metadata": {
            "tags": null
          },
          "name": "stderr",
          "output_type": "stream",
          "text": [
            "Loss=0.7516191601753235 Batch_id=781 Accuracy=64.81: 100%|██████████| 782/782 [00:17<00:00, 44.54it/s]\n"
          ]
        },
        {
          "metadata": {
            "tags": null
          },
          "name": "stdout",
          "output_type": "stream",
          "text": [
            "\n",
            "Test set: Average loss: 0.6170, Accuracy: 7900/10000 (79.00%)\n",
            "\n",
            "EPOCH: 33\n"
          ]
        },
        {
          "metadata": {
            "tags": null
          },
          "name": "stderr",
          "output_type": "stream",
          "text": [
            "Loss=0.6428291201591492 Batch_id=781 Accuracy=65.06: 100%|██████████| 782/782 [00:16<00:00, 46.15it/s]\n"
          ]
        },
        {
          "metadata": {
            "tags": null
          },
          "name": "stdout",
          "output_type": "stream",
          "text": [
            "\n",
            "Test set: Average loss: 0.5997, Accuracy: 8003/10000 (80.03%)\n",
            "\n",
            "EPOCH: 34\n"
          ]
        },
        {
          "metadata": {
            "tags": null
          },
          "name": "stderr",
          "output_type": "stream",
          "text": [
            "Loss=0.7595897912979126 Batch_id=781 Accuracy=65.35: 100%|██████████| 782/782 [00:17<00:00, 43.46it/s]\n"
          ]
        },
        {
          "metadata": {
            "tags": null
          },
          "name": "stdout",
          "output_type": "stream",
          "text": [
            "\n",
            "Test set: Average loss: 0.6373, Accuracy: 7805/10000 (78.05%)\n",
            "\n",
            "EPOCH: 35\n"
          ]
        },
        {
          "metadata": {
            "tags": null
          },
          "name": "stderr",
          "output_type": "stream",
          "text": [
            "Loss=0.944715142250061 Batch_id=781 Accuracy=65.36: 100%|██████████| 782/782 [00:17<00:00, 45.97it/s]\n"
          ]
        },
        {
          "metadata": {
            "tags": null
          },
          "name": "stdout",
          "output_type": "stream",
          "text": [
            "\n",
            "Test set: Average loss: 0.5914, Accuracy: 7974/10000 (79.74%)\n",
            "\n",
            "EPOCH: 36\n"
          ]
        },
        {
          "metadata": {
            "tags": null
          },
          "name": "stderr",
          "output_type": "stream",
          "text": [
            "Loss=0.863435685634613 Batch_id=781 Accuracy=65.70: 100%|██████████| 782/782 [00:16<00:00, 46.05it/s]\n"
          ]
        },
        {
          "metadata": {
            "tags": null
          },
          "name": "stdout",
          "output_type": "stream",
          "text": [
            "\n",
            "Test set: Average loss: 0.6041, Accuracy: 7943/10000 (79.43%)\n",
            "\n",
            "EPOCH: 37\n"
          ]
        },
        {
          "metadata": {
            "tags": null
          },
          "name": "stderr",
          "output_type": "stream",
          "text": [
            "Loss=1.398826241493225 Batch_id=781 Accuracy=65.88: 100%|██████████| 782/782 [00:18<00:00, 42.23it/s]\n"
          ]
        },
        {
          "metadata": {
            "tags": null
          },
          "name": "stdout",
          "output_type": "stream",
          "text": [
            "\n",
            "Test set: Average loss: 0.6127, Accuracy: 7958/10000 (79.58%)\n",
            "\n",
            "EPOCH: 38\n"
          ]
        },
        {
          "metadata": {
            "tags": null
          },
          "name": "stderr",
          "output_type": "stream",
          "text": [
            "Loss=0.9358958601951599 Batch_id=781 Accuracy=65.80: 100%|██████████| 782/782 [00:17<00:00, 45.71it/s]\n"
          ]
        },
        {
          "metadata": {
            "tags": null
          },
          "name": "stdout",
          "output_type": "stream",
          "text": [
            "\n",
            "Test set: Average loss: 0.5811, Accuracy: 8035/10000 (80.35%)\n",
            "\n",
            "EPOCH: 39\n"
          ]
        },
        {
          "metadata": {
            "tags": null
          },
          "name": "stderr",
          "output_type": "stream",
          "text": [
            "Loss=0.796716570854187 Batch_id=781 Accuracy=66.36: 100%|██████████| 782/782 [00:17<00:00, 45.03it/s]\n"
          ]
        },
        {
          "metadata": {
            "tags": null
          },
          "name": "stdout",
          "output_type": "stream",
          "text": [
            "\n",
            "Test set: Average loss: 0.5704, Accuracy: 7983/10000 (79.83%)\n",
            "\n",
            "EPOCH: 40\n"
          ]
        },
        {
          "metadata": {
            "tags": null
          },
          "name": "stderr",
          "output_type": "stream",
          "text": [
            "Loss=0.6010317802429199 Batch_id=781 Accuracy=66.23: 100%|██████████| 782/782 [00:17<00:00, 44.18it/s]\n"
          ]
        },
        {
          "metadata": {
            "tags": null
          },
          "name": "stdout",
          "output_type": "stream",
          "text": [
            "\n",
            "Test set: Average loss: 0.5880, Accuracy: 7950/10000 (79.50%)\n",
            "\n",
            "EPOCH: 41\n"
          ]
        },
        {
          "metadata": {
            "tags": null
          },
          "name": "stderr",
          "output_type": "stream",
          "text": [
            "Loss=1.322677493095398 Batch_id=781 Accuracy=66.53: 100%|██████████| 782/782 [00:16<00:00, 46.12it/s]\n"
          ]
        },
        {
          "metadata": {
            "tags": null
          },
          "name": "stdout",
          "output_type": "stream",
          "text": [
            "\n",
            "Test set: Average loss: 0.5763, Accuracy: 8008/10000 (80.08%)\n",
            "\n",
            "EPOCH: 42\n"
          ]
        },
        {
          "metadata": {
            "tags": null
          },
          "name": "stderr",
          "output_type": "stream",
          "text": [
            "Loss=0.7347444295883179 Batch_id=781 Accuracy=66.39: 100%|██████████| 782/782 [00:16<00:00, 46.76it/s]\n"
          ]
        },
        {
          "metadata": {
            "tags": null
          },
          "name": "stdout",
          "output_type": "stream",
          "text": [
            "\n",
            "Test set: Average loss: 0.5711, Accuracy: 8047/10000 (80.47%)\n",
            "\n",
            "EPOCH: 43\n"
          ]
        },
        {
          "metadata": {
            "tags": null
          },
          "name": "stderr",
          "output_type": "stream",
          "text": [
            "Loss=1.2981349229812622 Batch_id=781 Accuracy=66.78: 100%|██████████| 782/782 [00:17<00:00, 44.83it/s]\n"
          ]
        },
        {
          "metadata": {
            "tags": null
          },
          "name": "stdout",
          "output_type": "stream",
          "text": [
            "\n",
            "Test set: Average loss: 0.5610, Accuracy: 8057/10000 (80.57%)\n",
            "\n",
            "EPOCH: 44\n"
          ]
        },
        {
          "metadata": {
            "tags": null
          },
          "name": "stderr",
          "output_type": "stream",
          "text": [
            "Loss=1.0371475219726562 Batch_id=781 Accuracy=67.24: 100%|██████████| 782/782 [00:16<00:00, 46.74it/s]\n"
          ]
        },
        {
          "metadata": {
            "tags": null
          },
          "name": "stdout",
          "output_type": "stream",
          "text": [
            "\n",
            "Test set: Average loss: 0.5806, Accuracy: 8041/10000 (80.41%)\n",
            "\n",
            "EPOCH: 45\n"
          ]
        },
        {
          "metadata": {
            "tags": null
          },
          "name": "stderr",
          "output_type": "stream",
          "text": [
            "Loss=0.7406778335571289 Batch_id=781 Accuracy=66.59: 100%|██████████| 782/782 [00:16<00:00, 46.00it/s]\n"
          ]
        },
        {
          "metadata": {
            "tags": null
          },
          "name": "stdout",
          "output_type": "stream",
          "text": [
            "\n",
            "Test set: Average loss: 0.5534, Accuracy: 8140/10000 (81.40%)\n",
            "\n",
            "EPOCH: 46\n"
          ]
        },
        {
          "metadata": {
            "tags": null
          },
          "name": "stderr",
          "output_type": "stream",
          "text": [
            "Loss=0.6841078996658325 Batch_id=781 Accuracy=67.27: 100%|██████████| 782/782 [00:17<00:00, 45.54it/s]\n"
          ]
        },
        {
          "metadata": {
            "tags": null
          },
          "name": "stdout",
          "output_type": "stream",
          "text": [
            "\n",
            "Test set: Average loss: 0.5565, Accuracy: 8127/10000 (81.27%)\n",
            "\n",
            "EPOCH: 47\n"
          ]
        },
        {
          "metadata": {
            "tags": null
          },
          "name": "stderr",
          "output_type": "stream",
          "text": [
            "Loss=1.0020699501037598 Batch_id=781 Accuracy=67.27: 100%|██████████| 782/782 [00:17<00:00, 45.96it/s]\n"
          ]
        },
        {
          "metadata": {
            "tags": null
          },
          "name": "stdout",
          "output_type": "stream",
          "text": [
            "\n",
            "Test set: Average loss: 0.5885, Accuracy: 7990/10000 (79.90%)\n",
            "\n",
            "EPOCH: 48\n"
          ]
        },
        {
          "metadata": {
            "tags": null
          },
          "name": "stderr",
          "output_type": "stream",
          "text": [
            "Loss=0.9683690071105957 Batch_id=781 Accuracy=67.45: 100%|██████████| 782/782 [00:17<00:00, 45.02it/s]\n"
          ]
        },
        {
          "metadata": {
            "tags": null
          },
          "name": "stdout",
          "output_type": "stream",
          "text": [
            "\n",
            "Test set: Average loss: 0.5452, Accuracy: 8175/10000 (81.75%)\n",
            "\n",
            "EPOCH: 49\n"
          ]
        },
        {
          "metadata": {
            "tags": null
          },
          "name": "stderr",
          "output_type": "stream",
          "text": [
            "Loss=0.9771243929862976 Batch_id=781 Accuracy=67.37: 100%|██████████| 782/782 [00:16<00:00, 46.65it/s]\n"
          ]
        },
        {
          "metadata": {
            "tags": null
          },
          "name": "stdout",
          "output_type": "stream",
          "text": [
            "\n",
            "Test set: Average loss: 0.5513, Accuracy: 8151/10000 (81.51%)\n",
            "\n",
            "EPOCH: 50\n"
          ]
        },
        {
          "metadata": {
            "tags": null
          },
          "name": "stderr",
          "output_type": "stream",
          "text": [
            "Loss=0.8369780778884888 Batch_id=781 Accuracy=67.93: 100%|██████████| 782/782 [00:16<00:00, 46.50it/s]\n"
          ]
        },
        {
          "metadata": {
            "tags": null
          },
          "name": "stdout",
          "output_type": "stream",
          "text": [
            "\n",
            "Test set: Average loss: 0.5473, Accuracy: 8142/10000 (81.42%)\n",
            "\n",
            "EPOCH: 51\n"
          ]
        },
        {
          "metadata": {
            "tags": null
          },
          "name": "stderr",
          "output_type": "stream",
          "text": [
            "Loss=0.4383268654346466 Batch_id=781 Accuracy=67.62: 100%|██████████| 782/782 [00:17<00:00, 44.63it/s]\n"
          ]
        },
        {
          "metadata": {
            "tags": null
          },
          "name": "stdout",
          "output_type": "stream",
          "text": [
            "\n",
            "Test set: Average loss: 0.5455, Accuracy: 8152/10000 (81.52%)\n",
            "\n",
            "EPOCH: 52\n"
          ]
        },
        {
          "metadata": {
            "tags": null
          },
          "name": "stderr",
          "output_type": "stream",
          "text": [
            "Loss=1.2500460147857666 Batch_id=781 Accuracy=67.83: 100%|██████████| 782/782 [00:16<00:00, 46.34it/s]\n"
          ]
        },
        {
          "metadata": {
            "tags": null
          },
          "name": "stdout",
          "output_type": "stream",
          "text": [
            "\n",
            "Test set: Average loss: 0.5279, Accuracy: 8219/10000 (82.19%)\n",
            "\n",
            "EPOCH: 53\n"
          ]
        },
        {
          "metadata": {
            "tags": null
          },
          "name": "stderr",
          "output_type": "stream",
          "text": [
            "Loss=0.8549696207046509 Batch_id=781 Accuracy=68.05: 100%|██████████| 782/782 [00:16<00:00, 46.22it/s]\n"
          ]
        },
        {
          "metadata": {
            "tags": null
          },
          "name": "stdout",
          "output_type": "stream",
          "text": [
            "\n",
            "Test set: Average loss: 0.5223, Accuracy: 8221/10000 (82.21%)\n",
            "\n",
            "EPOCH: 54\n"
          ]
        },
        {
          "metadata": {
            "tags": null
          },
          "name": "stderr",
          "output_type": "stream",
          "text": [
            "Loss=1.1829197406768799 Batch_id=781 Accuracy=68.12: 100%|██████████| 782/782 [00:17<00:00, 44.25it/s]\n"
          ]
        },
        {
          "metadata": {
            "tags": null
          },
          "name": "stdout",
          "output_type": "stream",
          "text": [
            "\n",
            "Test set: Average loss: 0.5340, Accuracy: 8176/10000 (81.76%)\n",
            "\n",
            "EPOCH: 55\n"
          ]
        },
        {
          "metadata": {
            "tags": null
          },
          "name": "stderr",
          "output_type": "stream",
          "text": [
            "Loss=0.6587809324264526 Batch_id=781 Accuracy=68.01: 100%|██████████| 782/782 [00:16<00:00, 46.06it/s]\n"
          ]
        },
        {
          "metadata": {
            "tags": null
          },
          "name": "stdout",
          "output_type": "stream",
          "text": [
            "\n",
            "Test set: Average loss: 0.5510, Accuracy: 8136/10000 (81.36%)\n",
            "\n",
            "EPOCH: 56\n"
          ]
        },
        {
          "metadata": {
            "tags": null
          },
          "name": "stderr",
          "output_type": "stream",
          "text": [
            "Loss=1.0449602603912354 Batch_id=781 Accuracy=68.15: 100%|██████████| 782/782 [00:16<00:00, 46.35it/s]\n"
          ]
        },
        {
          "metadata": {
            "tags": null
          },
          "name": "stdout",
          "output_type": "stream",
          "text": [
            "\n",
            "Test set: Average loss: 0.5442, Accuracy: 8211/10000 (82.11%)\n",
            "\n",
            "EPOCH: 57\n"
          ]
        },
        {
          "metadata": {
            "tags": null
          },
          "name": "stderr",
          "output_type": "stream",
          "text": [
            "Loss=0.9786123633384705 Batch_id=781 Accuracy=68.41: 100%|██████████| 782/782 [00:18<00:00, 43.30it/s]\n"
          ]
        },
        {
          "metadata": {
            "tags": null
          },
          "name": "stdout",
          "output_type": "stream",
          "text": [
            "\n",
            "Test set: Average loss: 0.5390, Accuracy: 8159/10000 (81.59%)\n",
            "\n",
            "EPOCH: 58\n"
          ]
        },
        {
          "metadata": {
            "tags": null
          },
          "name": "stderr",
          "output_type": "stream",
          "text": [
            "Loss=0.9368078708648682 Batch_id=781 Accuracy=68.39: 100%|██████████| 782/782 [00:16<00:00, 46.41it/s]\n"
          ]
        },
        {
          "metadata": {
            "tags": null
          },
          "name": "stdout",
          "output_type": "stream",
          "text": [
            "\n",
            "Test set: Average loss: 0.5383, Accuracy: 8177/10000 (81.77%)\n",
            "\n",
            "EPOCH: 59\n"
          ]
        },
        {
          "metadata": {
            "tags": null
          },
          "name": "stderr",
          "output_type": "stream",
          "text": [
            "Loss=1.2934612035751343 Batch_id=781 Accuracy=68.68: 100%|██████████| 782/782 [00:16<00:00, 46.73it/s]\n"
          ]
        },
        {
          "metadata": {
            "tags": null
          },
          "name": "stdout",
          "output_type": "stream",
          "text": [
            "\n",
            "Test set: Average loss: 0.5298, Accuracy: 8183/10000 (81.83%)\n",
            "\n",
            "EPOCH: 60\n"
          ]
        },
        {
          "metadata": {
            "tags": null
          },
          "name": "stderr",
          "output_type": "stream",
          "text": [
            "Loss=0.6338158845901489 Batch_id=781 Accuracy=68.86: 100%|██████████| 782/782 [00:18<00:00, 43.20it/s]\n"
          ]
        },
        {
          "metadata": {
            "tags": null
          },
          "name": "stdout",
          "output_type": "stream",
          "text": [
            "\n",
            "Test set: Average loss: 0.5239, Accuracy: 8223/10000 (82.23%)\n",
            "\n",
            "EPOCH: 61\n"
          ]
        },
        {
          "metadata": {
            "tags": null
          },
          "name": "stderr",
          "output_type": "stream",
          "text": [
            "Loss=1.0085047483444214 Batch_id=781 Accuracy=69.12: 100%|██████████| 782/782 [00:17<00:00, 45.72it/s]\n"
          ]
        },
        {
          "metadata": {
            "tags": null
          },
          "name": "stdout",
          "output_type": "stream",
          "text": [
            "\n",
            "Test set: Average loss: 0.5181, Accuracy: 8255/10000 (82.55%)\n",
            "\n",
            "EPOCH: 62\n"
          ]
        },
        {
          "metadata": {
            "tags": null
          },
          "name": "stderr",
          "output_type": "stream",
          "text": [
            "Loss=1.0102709531784058 Batch_id=781 Accuracy=69.42: 100%|██████████| 782/782 [00:16<00:00, 46.04it/s]\n"
          ]
        },
        {
          "metadata": {
            "tags": null
          },
          "name": "stdout",
          "output_type": "stream",
          "text": [
            "\n",
            "Test set: Average loss: 0.5291, Accuracy: 8243/10000 (82.43%)\n",
            "\n",
            "EPOCH: 63\n"
          ]
        },
        {
          "metadata": {
            "tags": null
          },
          "name": "stderr",
          "output_type": "stream",
          "text": [
            "Loss=0.7695889472961426 Batch_id=781 Accuracy=69.13: 100%|██████████| 782/782 [00:18<00:00, 41.51it/s]\n"
          ]
        },
        {
          "metadata": {
            "tags": null
          },
          "name": "stdout",
          "output_type": "stream",
          "text": [
            "\n",
            "Test set: Average loss: 0.5099, Accuracy: 8221/10000 (82.21%)\n",
            "\n",
            "EPOCH: 64\n"
          ]
        },
        {
          "metadata": {
            "tags": null
          },
          "name": "stderr",
          "output_type": "stream",
          "text": [
            "Loss=1.3121206760406494 Batch_id=781 Accuracy=69.25: 100%|██████████| 782/782 [00:18<00:00, 41.87it/s]\n"
          ]
        },
        {
          "metadata": {
            "tags": null
          },
          "name": "stdout",
          "output_type": "stream",
          "text": [
            "\n",
            "Test set: Average loss: 0.5194, Accuracy: 8218/10000 (82.18%)\n",
            "\n",
            "EPOCH: 65\n"
          ]
        },
        {
          "metadata": {
            "tags": null
          },
          "name": "stderr",
          "output_type": "stream",
          "text": [
            "Loss=0.7307109832763672 Batch_id=781 Accuracy=69.33: 100%|██████████| 782/782 [00:21<00:00, 36.89it/s]\n"
          ]
        },
        {
          "metadata": {
            "tags": null
          },
          "name": "stdout",
          "output_type": "stream",
          "text": [
            "\n",
            "Test set: Average loss: 0.5142, Accuracy: 8259/10000 (82.59%)\n",
            "\n",
            "EPOCH: 66\n"
          ]
        },
        {
          "metadata": {
            "tags": null
          },
          "name": "stderr",
          "output_type": "stream",
          "text": [
            "Loss=1.3393710851669312 Batch_id=781 Accuracy=69.87: 100%|██████████| 782/782 [00:19<00:00, 40.80it/s]\n"
          ]
        },
        {
          "metadata": {
            "tags": null
          },
          "name": "stdout",
          "output_type": "stream",
          "text": [
            "\n",
            "Test set: Average loss: 0.5043, Accuracy: 8291/10000 (82.91%)\n",
            "\n",
            "EPOCH: 67\n"
          ]
        },
        {
          "metadata": {
            "tags": null
          },
          "name": "stderr",
          "output_type": "stream",
          "text": [
            "Loss=0.8667883276939392 Batch_id=781 Accuracy=69.48: 100%|██████████| 782/782 [00:19<00:00, 39.19it/s]\n"
          ]
        },
        {
          "metadata": {
            "tags": null
          },
          "name": "stdout",
          "output_type": "stream",
          "text": [
            "\n",
            "Test set: Average loss: 0.5171, Accuracy: 8254/10000 (82.54%)\n",
            "\n",
            "EPOCH: 68\n"
          ]
        },
        {
          "metadata": {
            "tags": null
          },
          "name": "stderr",
          "output_type": "stream",
          "text": [
            "Loss=0.7412005066871643 Batch_id=781 Accuracy=69.86: 100%|██████████| 782/782 [00:18<00:00, 42.06it/s]\n"
          ]
        },
        {
          "metadata": {
            "tags": null
          },
          "name": "stdout",
          "output_type": "stream",
          "text": [
            "\n",
            "Test set: Average loss: 0.5247, Accuracy: 8216/10000 (82.16%)\n",
            "\n",
            "EPOCH: 69\n"
          ]
        },
        {
          "metadata": {
            "tags": null
          },
          "name": "stderr",
          "output_type": "stream",
          "text": [
            "Loss=0.8148128986358643 Batch_id=781 Accuracy=69.68: 100%|██████████| 782/782 [00:19<00:00, 39.80it/s]\n"
          ]
        },
        {
          "metadata": {
            "tags": null
          },
          "name": "stdout",
          "output_type": "stream",
          "text": [
            "\n",
            "Test set: Average loss: 0.5102, Accuracy: 8253/10000 (82.53%)\n",
            "\n",
            "EPOCH: 70\n"
          ]
        },
        {
          "metadata": {
            "tags": null
          },
          "name": "stderr",
          "output_type": "stream",
          "text": [
            "Loss=0.770454466342926 Batch_id=781 Accuracy=69.69: 100%|██████████| 782/782 [00:18<00:00, 42.39it/s]\n"
          ]
        },
        {
          "metadata": {
            "tags": null
          },
          "name": "stdout",
          "output_type": "stream",
          "text": [
            "\n",
            "Test set: Average loss: 0.5326, Accuracy: 8221/10000 (82.21%)\n",
            "\n",
            "EPOCH: 71\n"
          ]
        },
        {
          "metadata": {
            "tags": null
          },
          "name": "stderr",
          "output_type": "stream",
          "text": [
            "Loss=0.7641180157661438 Batch_id=781 Accuracy=69.29: 100%|██████████| 782/782 [00:19<00:00, 39.49it/s]\n"
          ]
        },
        {
          "metadata": {
            "tags": null
          },
          "name": "stdout",
          "output_type": "stream",
          "text": [
            "\n",
            "Test set: Average loss: 0.4962, Accuracy: 8300/10000 (83.00%)\n",
            "\n",
            "EPOCH: 72\n"
          ]
        },
        {
          "metadata": {
            "tags": null
          },
          "name": "stderr",
          "output_type": "stream",
          "text": [
            "Loss=0.5622257590293884 Batch_id=781 Accuracy=69.91: 100%|██████████| 782/782 [00:18<00:00, 42.87it/s]\n"
          ]
        },
        {
          "metadata": {
            "tags": null
          },
          "name": "stdout",
          "output_type": "stream",
          "text": [
            "\n",
            "Test set: Average loss: 0.5105, Accuracy: 8297/10000 (82.97%)\n",
            "\n",
            "EPOCH: 73\n"
          ]
        },
        {
          "metadata": {
            "tags": null
          },
          "name": "stderr",
          "output_type": "stream",
          "text": [
            "Loss=1.0568816661834717 Batch_id=781 Accuracy=69.70: 100%|██████████| 782/782 [00:20<00:00, 38.29it/s]\n"
          ]
        },
        {
          "metadata": {
            "tags": null
          },
          "name": "stdout",
          "output_type": "stream",
          "text": [
            "\n",
            "Test set: Average loss: 0.5206, Accuracy: 8235/10000 (82.35%)\n",
            "\n",
            "EPOCH: 74\n"
          ]
        },
        {
          "metadata": {
            "tags": null
          },
          "name": "stderr",
          "output_type": "stream",
          "text": [
            "Loss=0.6561079621315002 Batch_id=781 Accuracy=69.88: 100%|██████████| 782/782 [00:19<00:00, 39.30it/s]\n"
          ]
        },
        {
          "metadata": {
            "tags": null
          },
          "name": "stdout",
          "output_type": "stream",
          "text": [
            "\n",
            "Test set: Average loss: 0.5014, Accuracy: 8296/10000 (82.96%)\n",
            "\n",
            "EPOCH: 75\n"
          ]
        },
        {
          "metadata": {
            "tags": null
          },
          "name": "stderr",
          "output_type": "stream",
          "text": [
            "Loss=1.239753007888794 Batch_id=781 Accuracy=70.24: 100%|██████████| 782/782 [00:21<00:00, 36.16it/s]\n"
          ]
        },
        {
          "metadata": {
            "tags": null
          },
          "name": "stdout",
          "output_type": "stream",
          "text": [
            "\n",
            "Test set: Average loss: 0.5120, Accuracy: 8259/10000 (82.59%)\n",
            "\n",
            "EPOCH: 76\n"
          ]
        },
        {
          "metadata": {
            "tags": null
          },
          "name": "stderr",
          "output_type": "stream",
          "text": [
            "Loss=0.8918026685714722 Batch_id=781 Accuracy=69.95: 100%|██████████| 782/782 [00:19<00:00, 39.16it/s]\n"
          ]
        },
        {
          "metadata": {
            "tags": null
          },
          "name": "stdout",
          "output_type": "stream",
          "text": [
            "\n",
            "Test set: Average loss: 0.4930, Accuracy: 8324/10000 (83.24%)\n",
            "\n",
            "EPOCH: 77\n"
          ]
        },
        {
          "metadata": {
            "tags": null
          },
          "name": "stderr",
          "output_type": "stream",
          "text": [
            "Loss=1.291128396987915 Batch_id=781 Accuracy=70.17: 100%|██████████| 782/782 [00:21<00:00, 36.43it/s]\n"
          ]
        },
        {
          "metadata": {
            "tags": null
          },
          "name": "stdout",
          "output_type": "stream",
          "text": [
            "\n",
            "Test set: Average loss: 0.5228, Accuracy: 8261/10000 (82.61%)\n",
            "\n",
            "EPOCH: 78\n"
          ]
        },
        {
          "metadata": {
            "tags": null
          },
          "name": "stderr",
          "output_type": "stream",
          "text": [
            "Loss=1.2511060237884521 Batch_id=781 Accuracy=70.20: 100%|██████████| 782/782 [00:20<00:00, 38.04it/s]\n"
          ]
        },
        {
          "metadata": {
            "tags": null
          },
          "name": "stdout",
          "output_type": "stream",
          "text": [
            "\n",
            "Test set: Average loss: 0.5181, Accuracy: 8257/10000 (82.57%)\n",
            "\n",
            "EPOCH: 79\n"
          ]
        },
        {
          "metadata": {
            "tags": null
          },
          "name": "stderr",
          "output_type": "stream",
          "text": [
            "Loss=0.8180099129676819 Batch_id=781 Accuracy=70.46: 100%|██████████| 782/782 [00:20<00:00, 38.18it/s]\n"
          ]
        },
        {
          "metadata": {
            "tags": null
          },
          "name": "stdout",
          "output_type": "stream",
          "text": [
            "\n",
            "Test set: Average loss: 0.5018, Accuracy: 8301/10000 (83.01%)\n",
            "\n",
            "EPOCH: 80\n"
          ]
        },
        {
          "metadata": {
            "tags": null
          },
          "name": "stderr",
          "output_type": "stream",
          "text": [
            "Loss=1.4033334255218506 Batch_id=781 Accuracy=70.41: 100%|██████████| 782/782 [00:20<00:00, 37.36it/s]\n"
          ]
        },
        {
          "metadata": {
            "tags": null
          },
          "name": "stdout",
          "output_type": "stream",
          "text": [
            "\n",
            "Test set: Average loss: 0.5097, Accuracy: 8289/10000 (82.89%)\n",
            "\n",
            "EPOCH: 81\n"
          ]
        },
        {
          "metadata": {
            "tags": null
          },
          "name": "stderr",
          "output_type": "stream",
          "text": [
            "Loss=1.0834741592407227 Batch_id=781 Accuracy=70.85: 100%|██████████| 782/782 [00:19<00:00, 39.19it/s]\n"
          ]
        },
        {
          "metadata": {
            "tags": null
          },
          "name": "stdout",
          "output_type": "stream",
          "text": [
            "\n",
            "Test set: Average loss: 0.4987, Accuracy: 8321/10000 (83.21%)\n",
            "\n",
            "EPOCH: 82\n"
          ]
        },
        {
          "metadata": {
            "tags": null
          },
          "name": "stderr",
          "output_type": "stream",
          "text": [
            "Loss=0.9601927995681763 Batch_id=781 Accuracy=70.80: 100%|██████████| 782/782 [00:21<00:00, 36.34it/s]\n"
          ]
        },
        {
          "metadata": {
            "tags": null
          },
          "name": "stdout",
          "output_type": "stream",
          "text": [
            "\n",
            "Test set: Average loss: 0.4952, Accuracy: 8322/10000 (83.22%)\n",
            "\n",
            "EPOCH: 83\n"
          ]
        },
        {
          "metadata": {
            "tags": null
          },
          "name": "stderr",
          "output_type": "stream",
          "text": [
            "Loss=0.9797095656394958 Batch_id=781 Accuracy=70.75: 100%|██████████| 782/782 [00:19<00:00, 39.27it/s]\n"
          ]
        },
        {
          "metadata": {
            "tags": null
          },
          "name": "stdout",
          "output_type": "stream",
          "text": [
            "\n",
            "Test set: Average loss: 0.5057, Accuracy: 8332/10000 (83.32%)\n",
            "\n",
            "EPOCH: 84\n"
          ]
        },
        {
          "metadata": {
            "tags": null
          },
          "name": "stderr",
          "output_type": "stream",
          "text": [
            "Loss=1.1020301580429077 Batch_id=781 Accuracy=70.54: 100%|██████████| 782/782 [00:21<00:00, 36.48it/s]\n"
          ]
        },
        {
          "metadata": {
            "tags": null
          },
          "name": "stdout",
          "output_type": "stream",
          "text": [
            "\n",
            "Test set: Average loss: 0.4889, Accuracy: 8329/10000 (83.29%)\n",
            "\n",
            "EPOCH: 85\n"
          ]
        },
        {
          "metadata": {
            "tags": null
          },
          "name": "stderr",
          "output_type": "stream",
          "text": [
            "Loss=1.1799637079238892 Batch_id=781 Accuracy=70.62: 100%|██████████| 782/782 [00:19<00:00, 39.53it/s]\n"
          ]
        },
        {
          "metadata": {
            "tags": null
          },
          "name": "stdout",
          "output_type": "stream",
          "text": [
            "\n",
            "Test set: Average loss: 0.4876, Accuracy: 8319/10000 (83.19%)\n",
            "\n",
            "EPOCH: 86\n"
          ]
        },
        {
          "metadata": {
            "tags": null
          },
          "name": "stderr",
          "output_type": "stream",
          "text": [
            "Loss=0.706632673740387 Batch_id=781 Accuracy=70.83: 100%|██████████| 782/782 [00:21<00:00, 37.16it/s]\n"
          ]
        },
        {
          "metadata": {
            "tags": null
          },
          "name": "stdout",
          "output_type": "stream",
          "text": [
            "\n",
            "Test set: Average loss: 0.4923, Accuracy: 8366/10000 (83.66%)\n",
            "\n",
            "EPOCH: 87\n"
          ]
        },
        {
          "metadata": {
            "tags": null
          },
          "name": "stderr",
          "output_type": "stream",
          "text": [
            "Loss=1.305320382118225 Batch_id=781 Accuracy=70.95: 100%|██████████| 782/782 [00:19<00:00, 39.17it/s]\n"
          ]
        },
        {
          "metadata": {
            "tags": null
          },
          "name": "stdout",
          "output_type": "stream",
          "text": [
            "\n",
            "Test set: Average loss: 0.4888, Accuracy: 8355/10000 (83.55%)\n",
            "\n",
            "EPOCH: 88\n"
          ]
        },
        {
          "metadata": {
            "tags": null
          },
          "name": "stderr",
          "output_type": "stream",
          "text": [
            "Loss=1.4548112154006958 Batch_id=781 Accuracy=70.66: 100%|██████████| 782/782 [00:21<00:00, 36.47it/s]\n"
          ]
        },
        {
          "metadata": {
            "tags": null
          },
          "name": "stdout",
          "output_type": "stream",
          "text": [
            "\n",
            "Test set: Average loss: 0.4934, Accuracy: 8332/10000 (83.32%)\n",
            "\n",
            "EPOCH: 89\n"
          ]
        },
        {
          "metadata": {
            "tags": null
          },
          "name": "stderr",
          "output_type": "stream",
          "text": [
            "Loss=1.3126888275146484 Batch_id=781 Accuracy=70.93: 100%|██████████| 782/782 [00:21<00:00, 36.29it/s]\n"
          ]
        },
        {
          "metadata": {
            "tags": null
          },
          "name": "stdout",
          "output_type": "stream",
          "text": [
            "\n",
            "Test set: Average loss: 0.4894, Accuracy: 8349/10000 (83.49%)\n",
            "\n",
            "EPOCH: 90\n"
          ]
        },
        {
          "metadata": {
            "tags": null
          },
          "name": "stderr",
          "output_type": "stream",
          "text": [
            "Loss=0.6783391833305359 Batch_id=781 Accuracy=71.42: 100%|██████████| 782/782 [00:20<00:00, 38.88it/s]\n"
          ]
        },
        {
          "metadata": {
            "tags": null
          },
          "name": "stdout",
          "output_type": "stream",
          "text": [
            "\n",
            "Test set: Average loss: 0.4767, Accuracy: 8366/10000 (83.66%)\n",
            "\n",
            "EPOCH: 91\n"
          ]
        },
        {
          "metadata": {
            "tags": null
          },
          "name": "stderr",
          "output_type": "stream",
          "text": [
            "Loss=0.8882637023925781 Batch_id=781 Accuracy=71.07: 100%|██████████| 782/782 [00:21<00:00, 36.79it/s]\n"
          ]
        },
        {
          "metadata": {
            "tags": null
          },
          "name": "stdout",
          "output_type": "stream",
          "text": [
            "\n",
            "Test set: Average loss: 0.4975, Accuracy: 8321/10000 (83.21%)\n",
            "\n",
            "EPOCH: 92\n"
          ]
        },
        {
          "metadata": {
            "tags": null
          },
          "name": "stderr",
          "output_type": "stream",
          "text": [
            "Loss=0.5426345467567444 Batch_id=781 Accuracy=71.25: 100%|██████████| 782/782 [00:20<00:00, 38.16it/s]\n"
          ]
        },
        {
          "metadata": {
            "tags": null
          },
          "name": "stdout",
          "output_type": "stream",
          "text": [
            "\n",
            "Test set: Average loss: 0.4834, Accuracy: 8341/10000 (83.41%)\n",
            "\n",
            "EPOCH: 93\n"
          ]
        },
        {
          "metadata": {
            "tags": null
          },
          "name": "stderr",
          "output_type": "stream",
          "text": [
            "Loss=1.222342610359192 Batch_id=781 Accuracy=71.27: 100%|██████████| 782/782 [00:20<00:00, 38.71it/s]\n"
          ]
        },
        {
          "metadata": {
            "tags": null
          },
          "name": "stdout",
          "output_type": "stream",
          "text": [
            "\n",
            "Test set: Average loss: 0.4871, Accuracy: 8330/10000 (83.30%)\n",
            "\n",
            "EPOCH: 94\n"
          ]
        },
        {
          "metadata": {
            "tags": null
          },
          "name": "stderr",
          "output_type": "stream",
          "text": [
            "Loss=0.7940034866333008 Batch_id=781 Accuracy=71.20: 100%|██████████| 782/782 [00:21<00:00, 36.35it/s]\n"
          ]
        },
        {
          "metadata": {
            "tags": null
          },
          "name": "stdout",
          "output_type": "stream",
          "text": [
            "\n",
            "Test set: Average loss: 0.4838, Accuracy: 8333/10000 (83.33%)\n",
            "\n",
            "EPOCH: 95\n"
          ]
        },
        {
          "metadata": {
            "tags": null
          },
          "name": "stderr",
          "output_type": "stream",
          "text": [
            "Loss=1.1940481662750244 Batch_id=781 Accuracy=71.52: 100%|██████████| 782/782 [00:19<00:00, 39.34it/s]\n"
          ]
        },
        {
          "metadata": {
            "tags": null
          },
          "name": "stdout",
          "output_type": "stream",
          "text": [
            "\n",
            "Test set: Average loss: 0.4863, Accuracy: 8327/10000 (83.27%)\n",
            "\n",
            "EPOCH: 96\n"
          ]
        },
        {
          "metadata": {
            "tags": null
          },
          "name": "stderr",
          "output_type": "stream",
          "text": [
            "Loss=2.0991222858428955 Batch_id=781 Accuracy=71.92: 100%|██████████| 782/782 [00:21<00:00, 36.29it/s]\n"
          ]
        },
        {
          "metadata": {
            "tags": null
          },
          "name": "stdout",
          "output_type": "stream",
          "text": [
            "\n",
            "Test set: Average loss: 0.4789, Accuracy: 8388/10000 (83.88%)\n",
            "\n",
            "EPOCH: 97\n"
          ]
        },
        {
          "metadata": {
            "tags": null
          },
          "name": "stderr",
          "output_type": "stream",
          "text": [
            "Loss=1.1606732606887817 Batch_id=781 Accuracy=71.54: 100%|██████████| 782/782 [00:21<00:00, 36.36it/s]\n"
          ]
        },
        {
          "metadata": {
            "tags": null
          },
          "name": "stdout",
          "output_type": "stream",
          "text": [
            "\n",
            "Test set: Average loss: 0.4898, Accuracy: 8367/10000 (83.67%)\n",
            "\n",
            "EPOCH: 98\n"
          ]
        },
        {
          "metadata": {
            "tags": null
          },
          "name": "stderr",
          "output_type": "stream",
          "text": [
            "Loss=1.0218563079833984 Batch_id=781 Accuracy=71.77: 100%|██████████| 782/782 [00:21<00:00, 36.80it/s]\n"
          ]
        },
        {
          "metadata": {
            "tags": null
          },
          "name": "stdout",
          "output_type": "stream",
          "text": [
            "\n",
            "Test set: Average loss: 0.4853, Accuracy: 8342/10000 (83.42%)\n",
            "\n",
            "EPOCH: 99\n"
          ]
        },
        {
          "metadata": {
            "tags": null
          },
          "name": "stderr",
          "output_type": "stream",
          "text": [
            "Loss=0.7036547064781189 Batch_id=781 Accuracy=71.85: 100%|██████████| 782/782 [00:19<00:00, 39.46it/s]\n"
          ]
        },
        {
          "metadata": {
            "tags": null
          },
          "name": "stdout",
          "output_type": "stream",
          "text": [
            "\n",
            "Test set: Average loss: 0.4784, Accuracy: 8407/10000 (84.07%)\n",
            "\n",
            "EPOCH: 100\n"
          ]
        },
        {
          "metadata": {
            "tags": null
          },
          "name": "stderr",
          "output_type": "stream",
          "text": [
            "Loss=1.5398751497268677 Batch_id=781 Accuracy=71.79: 100%|██████████| 782/782 [00:20<00:00, 38.86it/s]\n"
          ]
        },
        {
          "metadata": {
            "tags": null
          },
          "name": "stdout",
          "output_type": "stream",
          "text": [
            "\n",
            "Test set: Average loss: 0.4956, Accuracy: 8352/10000 (83.52%)\n",
            "\n",
            "EPOCH: 101\n"
          ]
        },
        {
          "metadata": {
            "tags": null
          },
          "name": "stderr",
          "output_type": "stream",
          "text": [
            "Loss=0.8080357313156128 Batch_id=781 Accuracy=71.88: 100%|██████████| 782/782 [00:21<00:00, 37.18it/s]\n"
          ]
        },
        {
          "metadata": {
            "tags": null
          },
          "name": "stdout",
          "output_type": "stream",
          "text": [
            "\n",
            "Test set: Average loss: 0.4840, Accuracy: 8365/10000 (83.65%)\n",
            "\n",
            "EPOCH: 102\n"
          ]
        },
        {
          "metadata": {
            "tags": null
          },
          "name": "stderr",
          "output_type": "stream",
          "text": [
            "Loss=0.7889931797981262 Batch_id=781 Accuracy=72.05: 100%|██████████| 782/782 [00:19<00:00, 39.47it/s]\n"
          ]
        },
        {
          "metadata": {
            "tags": null
          },
          "name": "stdout",
          "output_type": "stream",
          "text": [
            "\n",
            "Test set: Average loss: 0.4894, Accuracy: 8331/10000 (83.31%)\n",
            "\n",
            "EPOCH: 103\n"
          ]
        },
        {
          "metadata": {
            "tags": null
          },
          "name": "stderr",
          "output_type": "stream",
          "text": [
            "Loss=0.7673274874687195 Batch_id=781 Accuracy=71.76: 100%|██████████| 782/782 [00:21<00:00, 36.62it/s]\n"
          ]
        },
        {
          "metadata": {
            "tags": null
          },
          "name": "stdout",
          "output_type": "stream",
          "text": [
            "\n",
            "Test set: Average loss: 0.4719, Accuracy: 8412/10000 (84.12%)\n",
            "\n",
            "EPOCH: 104\n"
          ]
        },
        {
          "metadata": {
            "tags": null
          },
          "name": "stderr",
          "output_type": "stream",
          "text": [
            "Loss=0.6102656722068787 Batch_id=781 Accuracy=71.59: 100%|██████████| 782/782 [00:19<00:00, 39.56it/s]\n"
          ]
        },
        {
          "metadata": {
            "tags": null
          },
          "name": "stdout",
          "output_type": "stream",
          "text": [
            "\n",
            "Test set: Average loss: 0.4957, Accuracy: 8303/10000 (83.03%)\n",
            "\n",
            "EPOCH: 105\n"
          ]
        },
        {
          "metadata": {
            "tags": null
          },
          "name": "stderr",
          "output_type": "stream",
          "text": [
            "Loss=1.0681227445602417 Batch_id=781 Accuracy=71.76: 100%|██████████| 782/782 [00:21<00:00, 36.43it/s]\n"
          ]
        },
        {
          "metadata": {
            "tags": null
          },
          "name": "stdout",
          "output_type": "stream",
          "text": [
            "\n",
            "Test set: Average loss: 0.4742, Accuracy: 8379/10000 (83.79%)\n",
            "\n",
            "EPOCH: 106\n"
          ]
        },
        {
          "metadata": {
            "tags": null
          },
          "name": "stderr",
          "output_type": "stream",
          "text": [
            "Loss=0.919522762298584 Batch_id=781 Accuracy=72.24: 100%|██████████| 782/782 [00:21<00:00, 36.12it/s]\n"
          ]
        },
        {
          "metadata": {
            "tags": null
          },
          "name": "stdout",
          "output_type": "stream",
          "text": [
            "\n",
            "Test set: Average loss: 0.4853, Accuracy: 8410/10000 (84.10%)\n",
            "\n",
            "EPOCH: 107\n"
          ]
        },
        {
          "metadata": {
            "tags": null
          },
          "name": "stderr",
          "output_type": "stream",
          "text": [
            "Loss=0.4271883964538574 Batch_id=781 Accuracy=72.11: 100%|██████████| 782/782 [00:20<00:00, 39.05it/s]\n"
          ]
        },
        {
          "metadata": {
            "tags": null
          },
          "name": "stdout",
          "output_type": "stream",
          "text": [
            "\n",
            "Test set: Average loss: 0.4847, Accuracy: 8416/10000 (84.16%)\n",
            "\n",
            "EPOCH: 108\n"
          ]
        },
        {
          "metadata": {
            "tags": null
          },
          "name": "stderr",
          "output_type": "stream",
          "text": [
            "Loss=1.4840728044509888 Batch_id=781 Accuracy=72.42: 100%|██████████| 782/782 [00:20<00:00, 37.76it/s]\n"
          ]
        },
        {
          "metadata": {
            "tags": null
          },
          "name": "stdout",
          "output_type": "stream",
          "text": [
            "\n",
            "Test set: Average loss: 0.4750, Accuracy: 8424/10000 (84.24%)\n",
            "\n",
            "EPOCH: 109\n"
          ]
        },
        {
          "metadata": {
            "tags": null
          },
          "name": "stderr",
          "output_type": "stream",
          "text": [
            "Loss=1.4693772792816162 Batch_id=781 Accuracy=72.00: 100%|██████████| 782/782 [00:19<00:00, 39.11it/s]\n"
          ]
        },
        {
          "metadata": {
            "tags": null
          },
          "name": "stdout",
          "output_type": "stream",
          "text": [
            "\n",
            "Test set: Average loss: 0.4783, Accuracy: 8352/10000 (83.52%)\n",
            "\n",
            "EPOCH: 110\n"
          ]
        },
        {
          "metadata": {
            "tags": null
          },
          "name": "stderr",
          "output_type": "stream",
          "text": [
            "Loss=0.9633192420005798 Batch_id=781 Accuracy=72.26: 100%|██████████| 782/782 [00:21<00:00, 36.35it/s]\n"
          ]
        },
        {
          "metadata": {
            "tags": null
          },
          "name": "stdout",
          "output_type": "stream",
          "text": [
            "\n",
            "Test set: Average loss: 0.5083, Accuracy: 8302/10000 (83.02%)\n",
            "\n",
            "EPOCH: 111\n"
          ]
        },
        {
          "metadata": {
            "tags": null
          },
          "name": "stderr",
          "output_type": "stream",
          "text": [
            "Loss=1.1366710662841797 Batch_id=781 Accuracy=72.45: 100%|██████████| 782/782 [00:20<00:00, 38.70it/s]\n"
          ]
        },
        {
          "metadata": {
            "tags": null
          },
          "name": "stdout",
          "output_type": "stream",
          "text": [
            "\n",
            "Test set: Average loss: 0.4787, Accuracy: 8390/10000 (83.90%)\n",
            "\n",
            "EPOCH: 112\n"
          ]
        },
        {
          "metadata": {
            "tags": null
          },
          "name": "stderr",
          "output_type": "stream",
          "text": [
            "Loss=0.965375542640686 Batch_id=781 Accuracy=72.38: 100%|██████████| 782/782 [00:21<00:00, 36.06it/s]\n"
          ]
        },
        {
          "metadata": {
            "tags": null
          },
          "name": "stdout",
          "output_type": "stream",
          "text": [
            "\n",
            "Test set: Average loss: 0.4761, Accuracy: 8420/10000 (84.20%)\n",
            "\n",
            "EPOCH: 113\n"
          ]
        },
        {
          "metadata": {
            "tags": null
          },
          "name": "stderr",
          "output_type": "stream",
          "text": [
            "Loss=1.0760551691055298 Batch_id=781 Accuracy=72.37: 100%|██████████| 782/782 [00:20<00:00, 38.83it/s]\n"
          ]
        },
        {
          "metadata": {
            "tags": null
          },
          "name": "stdout",
          "output_type": "stream",
          "text": [
            "\n",
            "Test set: Average loss: 0.4870, Accuracy: 8360/10000 (83.60%)\n",
            "\n",
            "EPOCH: 114\n"
          ]
        },
        {
          "metadata": {
            "tags": null
          },
          "name": "stderr",
          "output_type": "stream",
          "text": [
            "Loss=1.364548921585083 Batch_id=781 Accuracy=71.98: 100%|██████████| 782/782 [00:20<00:00, 37.88it/s]\n"
          ]
        },
        {
          "metadata": {
            "tags": null
          },
          "name": "stdout",
          "output_type": "stream",
          "text": [
            "\n",
            "Test set: Average loss: 0.4642, Accuracy: 8423/10000 (84.23%)\n",
            "\n",
            "EPOCH: 115\n"
          ]
        },
        {
          "metadata": {
            "tags": null
          },
          "name": "stderr",
          "output_type": "stream",
          "text": [
            "Loss=0.5870507955551147 Batch_id=781 Accuracy=72.23: 100%|██████████| 782/782 [00:23<00:00, 33.56it/s]\n"
          ]
        },
        {
          "metadata": {
            "tags": null
          },
          "name": "stdout",
          "output_type": "stream",
          "text": [
            "\n",
            "Test set: Average loss: 0.4842, Accuracy: 8400/10000 (84.00%)\n",
            "\n",
            "EPOCH: 116\n"
          ]
        },
        {
          "metadata": {
            "tags": null
          },
          "name": "stderr",
          "output_type": "stream",
          "text": [
            "Loss=1.3278924226760864 Batch_id=781 Accuracy=72.82: 100%|██████████| 782/782 [00:20<00:00, 38.29it/s]\n"
          ]
        },
        {
          "metadata": {
            "tags": null
          },
          "name": "stdout",
          "output_type": "stream",
          "text": [
            "\n",
            "Test set: Average loss: 0.4808, Accuracy: 8393/10000 (83.93%)\n",
            "\n",
            "EPOCH: 117\n"
          ]
        },
        {
          "metadata": {
            "tags": null
          },
          "name": "stderr",
          "output_type": "stream",
          "text": [
            "Loss=1.0648212432861328 Batch_id=781 Accuracy=72.60: 100%|██████████| 782/782 [00:21<00:00, 35.96it/s]\n"
          ]
        },
        {
          "metadata": {
            "tags": null
          },
          "name": "stdout",
          "output_type": "stream",
          "text": [
            "\n",
            "Test set: Average loss: 0.4947, Accuracy: 8345/10000 (83.45%)\n",
            "\n",
            "EPOCH: 118\n"
          ]
        },
        {
          "metadata": {
            "tags": null
          },
          "name": "stderr",
          "output_type": "stream",
          "text": [
            "Loss=0.410910040140152 Batch_id=781 Accuracy=72.65: 100%|██████████| 782/782 [00:20<00:00, 37.48it/s]\n"
          ]
        },
        {
          "metadata": {
            "tags": null
          },
          "name": "stdout",
          "output_type": "stream",
          "text": [
            "\n",
            "Test set: Average loss: 0.4677, Accuracy: 8433/10000 (84.33%)\n",
            "\n",
            "EPOCH: 119\n"
          ]
        },
        {
          "metadata": {
            "tags": null
          },
          "name": "stderr",
          "output_type": "stream",
          "text": [
            "Loss=1.037083625793457 Batch_id=781 Accuracy=72.30: 100%|██████████| 782/782 [00:20<00:00, 38.58it/s]\n"
          ]
        },
        {
          "metadata": {
            "tags": null
          },
          "name": "stdout",
          "output_type": "stream",
          "text": [
            "\n",
            "Test set: Average loss: 0.4965, Accuracy: 8356/10000 (83.56%)\n",
            "\n",
            "EPOCH: 120\n"
          ]
        },
        {
          "metadata": {
            "tags": null
          },
          "name": "stderr",
          "output_type": "stream",
          "text": [
            "Loss=0.6651569604873657 Batch_id=781 Accuracy=72.68: 100%|██████████| 782/782 [00:21<00:00, 35.61it/s]\n"
          ]
        },
        {
          "metadata": {
            "tags": null
          },
          "name": "stdout",
          "output_type": "stream",
          "text": [
            "\n",
            "Test set: Average loss: 0.4791, Accuracy: 8430/10000 (84.30%)\n",
            "\n",
            "EPOCH: 121\n"
          ]
        },
        {
          "metadata": {
            "tags": null
          },
          "name": "stderr",
          "output_type": "stream",
          "text": [
            "Loss=0.8513883352279663 Batch_id=781 Accuracy=72.84: 100%|██████████| 782/782 [00:20<00:00, 38.04it/s]\n"
          ]
        },
        {
          "metadata": {
            "tags": null
          },
          "name": "stdout",
          "output_type": "stream",
          "text": [
            "\n",
            "Test set: Average loss: 0.4676, Accuracy: 8443/10000 (84.43%)\n",
            "\n",
            "EPOCH: 122\n"
          ]
        },
        {
          "metadata": {
            "tags": null
          },
          "name": "stderr",
          "output_type": "stream",
          "text": [
            "Loss=0.42274752259254456 Batch_id=781 Accuracy=72.77: 100%|██████████| 782/782 [00:21<00:00, 36.01it/s]\n"
          ]
        },
        {
          "metadata": {
            "tags": null
          },
          "name": "stdout",
          "output_type": "stream",
          "text": [
            "\n",
            "Test set: Average loss: 0.4720, Accuracy: 8411/10000 (84.11%)\n",
            "\n",
            "EPOCH: 123\n"
          ]
        },
        {
          "metadata": {
            "tags": null
          },
          "name": "stderr",
          "output_type": "stream",
          "text": [
            "Loss=0.9872256517410278 Batch_id=781 Accuracy=72.78: 100%|██████████| 782/782 [00:20<00:00, 38.05it/s]\n"
          ]
        },
        {
          "metadata": {
            "tags": null
          },
          "name": "stdout",
          "output_type": "stream",
          "text": [
            "\n",
            "Test set: Average loss: 0.4549, Accuracy: 8478/10000 (84.78%)\n",
            "\n",
            "EPOCH: 124\n"
          ]
        },
        {
          "metadata": {
            "tags": null
          },
          "name": "stderr",
          "output_type": "stream",
          "text": [
            "Loss=0.6694432497024536 Batch_id=781 Accuracy=73.20: 100%|██████████| 782/782 [00:21<00:00, 35.86it/s]\n"
          ]
        },
        {
          "metadata": {
            "tags": null
          },
          "name": "stdout",
          "output_type": "stream",
          "text": [
            "\n",
            "Test set: Average loss: 0.4664, Accuracy: 8448/10000 (84.48%)\n",
            "\n",
            "EPOCH: 125\n"
          ]
        },
        {
          "metadata": {
            "tags": null
          },
          "name": "stderr",
          "output_type": "stream",
          "text": [
            "Loss=0.7450512051582336 Batch_id=781 Accuracy=72.71: 100%|██████████| 782/782 [00:21<00:00, 35.63it/s]\n"
          ]
        },
        {
          "metadata": {
            "tags": null
          },
          "name": "stdout",
          "output_type": "stream",
          "text": [
            "\n",
            "Test set: Average loss: 0.4693, Accuracy: 8430/10000 (84.30%)\n",
            "\n",
            "EPOCH: 126\n"
          ]
        },
        {
          "metadata": {
            "tags": null
          },
          "name": "stderr",
          "output_type": "stream",
          "text": [
            "Loss=0.7604996562004089 Batch_id=781 Accuracy=72.92: 100%|██████████| 782/782 [00:20<00:00, 38.40it/s]\n"
          ]
        },
        {
          "metadata": {
            "tags": null
          },
          "name": "stdout",
          "output_type": "stream",
          "text": [
            "\n",
            "Test set: Average loss: 0.4645, Accuracy: 8451/10000 (84.51%)\n",
            "\n",
            "EPOCH: 127\n"
          ]
        },
        {
          "metadata": {
            "tags": null
          },
          "name": "stderr",
          "output_type": "stream",
          "text": [
            "Loss=0.6208540201187134 Batch_id=781 Accuracy=73.16: 100%|██████████| 782/782 [00:21<00:00, 36.93it/s]\n"
          ]
        },
        {
          "metadata": {
            "tags": null
          },
          "name": "stdout",
          "output_type": "stream",
          "text": [
            "\n",
            "Test set: Average loss: 0.4579, Accuracy: 8428/10000 (84.28%)\n",
            "\n",
            "EPOCH: 128\n"
          ]
        },
        {
          "metadata": {
            "tags": null
          },
          "name": "stderr",
          "output_type": "stream",
          "text": [
            "Loss=0.9884535670280457 Batch_id=781 Accuracy=73.02: 100%|██████████| 782/782 [00:21<00:00, 36.55it/s]\n"
          ]
        },
        {
          "metadata": {
            "tags": null
          },
          "name": "stdout",
          "output_type": "stream",
          "text": [
            "\n",
            "Test set: Average loss: 0.4621, Accuracy: 8439/10000 (84.39%)\n",
            "\n",
            "EPOCH: 129\n"
          ]
        },
        {
          "metadata": {
            "tags": null
          },
          "name": "stderr",
          "output_type": "stream",
          "text": [
            "Loss=0.8671261072158813 Batch_id=781 Accuracy=73.09: 100%|██████████| 782/782 [00:20<00:00, 38.12it/s]\n"
          ]
        },
        {
          "metadata": {
            "tags": null
          },
          "name": "stdout",
          "output_type": "stream",
          "text": [
            "\n",
            "Test set: Average loss: 0.4769, Accuracy: 8409/10000 (84.09%)\n",
            "\n",
            "EPOCH: 130\n"
          ]
        },
        {
          "metadata": {
            "tags": null
          },
          "name": "stderr",
          "output_type": "stream",
          "text": [
            "Loss=0.2939987778663635 Batch_id=781 Accuracy=73.10: 100%|██████████| 782/782 [00:22<00:00, 35.49it/s]\n"
          ]
        },
        {
          "metadata": {
            "tags": null
          },
          "name": "stdout",
          "output_type": "stream",
          "text": [
            "\n",
            "Test set: Average loss: 0.4781, Accuracy: 8387/10000 (83.87%)\n",
            "\n",
            "EPOCH: 131\n"
          ]
        },
        {
          "metadata": {
            "tags": null
          },
          "name": "stderr",
          "output_type": "stream",
          "text": [
            "Loss=0.7718873023986816 Batch_id=781 Accuracy=73.00: 100%|██████████| 782/782 [00:20<00:00, 38.33it/s]\n"
          ]
        },
        {
          "metadata": {
            "tags": null
          },
          "name": "stdout",
          "output_type": "stream",
          "text": [
            "\n",
            "Test set: Average loss: 0.4683, Accuracy: 8418/10000 (84.18%)\n",
            "\n",
            "EPOCH: 132\n"
          ]
        },
        {
          "metadata": {
            "tags": null
          },
          "name": "stderr",
          "output_type": "stream",
          "text": [
            "Loss=0.8021472692489624 Batch_id=781 Accuracy=73.46: 100%|██████████| 782/782 [00:20<00:00, 38.31it/s]\n"
          ]
        },
        {
          "metadata": {
            "tags": null
          },
          "name": "stdout",
          "output_type": "stream",
          "text": [
            "\n",
            "Test set: Average loss: 0.4710, Accuracy: 8430/10000 (84.30%)\n",
            "\n",
            "EPOCH: 133\n"
          ]
        },
        {
          "metadata": {
            "tags": null
          },
          "name": "stderr",
          "output_type": "stream",
          "text": [
            "Loss=0.8791069984436035 Batch_id=781 Accuracy=73.40: 100%|██████████| 782/782 [00:23<00:00, 33.50it/s]\n"
          ]
        },
        {
          "metadata": {
            "tags": null
          },
          "name": "stdout",
          "output_type": "stream",
          "text": [
            "\n",
            "Test set: Average loss: 0.4758, Accuracy: 8431/10000 (84.31%)\n",
            "\n",
            "EPOCH: 134\n"
          ]
        },
        {
          "metadata": {
            "tags": null
          },
          "name": "stderr",
          "output_type": "stream",
          "text": [
            "Loss=0.3856429159641266 Batch_id=781 Accuracy=73.23: 100%|██████████| 782/782 [00:20<00:00, 38.54it/s]\n"
          ]
        },
        {
          "metadata": {
            "tags": null
          },
          "name": "stdout",
          "output_type": "stream",
          "text": [
            "\n",
            "Test set: Average loss: 0.4704, Accuracy: 8413/10000 (84.13%)\n",
            "\n",
            "EPOCH: 135\n"
          ]
        },
        {
          "metadata": {
            "tags": null
          },
          "name": "stderr",
          "output_type": "stream",
          "text": [
            "Loss=0.9671293497085571 Batch_id=781 Accuracy=73.10: 100%|██████████| 782/782 [00:21<00:00, 36.12it/s]\n"
          ]
        },
        {
          "metadata": {
            "tags": null
          },
          "name": "stdout",
          "output_type": "stream",
          "text": [
            "\n",
            "Test set: Average loss: 0.4775, Accuracy: 8423/10000 (84.23%)\n",
            "\n",
            "EPOCH: 136\n"
          ]
        },
        {
          "metadata": {
            "tags": null
          },
          "name": "stderr",
          "output_type": "stream",
          "text": [
            "Loss=1.007466197013855 Batch_id=781 Accuracy=73.30: 100%|██████████| 782/782 [00:20<00:00, 37.41it/s]\n"
          ]
        },
        {
          "metadata": {
            "tags": null
          },
          "name": "stdout",
          "output_type": "stream",
          "text": [
            "\n",
            "Test set: Average loss: 0.4732, Accuracy: 8449/10000 (84.49%)\n",
            "\n",
            "EPOCH: 137\n"
          ]
        },
        {
          "metadata": {
            "tags": null
          },
          "name": "stderr",
          "output_type": "stream",
          "text": [
            "Loss=0.7967022657394409 Batch_id=781 Accuracy=73.11: 100%|██████████| 782/782 [00:20<00:00, 38.47it/s]\n"
          ]
        },
        {
          "metadata": {
            "tags": null
          },
          "name": "stdout",
          "output_type": "stream",
          "text": [
            "\n",
            "Test set: Average loss: 0.4691, Accuracy: 8446/10000 (84.46%)\n",
            "\n",
            "EPOCH: 138\n"
          ]
        },
        {
          "metadata": {
            "tags": null
          },
          "name": "stderr",
          "output_type": "stream",
          "text": [
            "Loss=1.8114622831344604 Batch_id=781 Accuracy=72.93: 100%|██████████| 782/782 [00:21<00:00, 35.71it/s]\n"
          ]
        },
        {
          "metadata": {
            "tags": null
          },
          "name": "stdout",
          "output_type": "stream",
          "text": [
            "\n",
            "Test set: Average loss: 0.4695, Accuracy: 8452/10000 (84.52%)\n",
            "\n",
            "EPOCH: 139\n"
          ]
        },
        {
          "metadata": {
            "tags": null
          },
          "name": "stderr",
          "output_type": "stream",
          "text": [
            "Loss=1.0146297216415405 Batch_id=781 Accuracy=73.77: 100%|██████████| 782/782 [00:20<00:00, 38.32it/s]\n"
          ]
        },
        {
          "metadata": {
            "tags": null
          },
          "name": "stdout",
          "output_type": "stream",
          "text": [
            "\n",
            "Test set: Average loss: 0.4666, Accuracy: 8462/10000 (84.62%)\n",
            "\n",
            "EPOCH: 140\n"
          ]
        },
        {
          "metadata": {
            "tags": null
          },
          "name": "stderr",
          "output_type": "stream",
          "text": [
            "Loss=0.41536298394203186 Batch_id=781 Accuracy=73.49: 100%|██████████| 782/782 [00:21<00:00, 36.28it/s]\n"
          ]
        },
        {
          "metadata": {
            "tags": null
          },
          "name": "stdout",
          "output_type": "stream",
          "text": [
            "\n",
            "Test set: Average loss: 0.4636, Accuracy: 8484/10000 (84.84%)\n",
            "\n",
            "EPOCH: 141\n"
          ]
        },
        {
          "metadata": {
            "tags": null
          },
          "name": "stderr",
          "output_type": "stream",
          "text": [
            "Loss=0.91938716173172 Batch_id=781 Accuracy=73.55: 100%|██████████| 782/782 [00:21<00:00, 36.47it/s]\n"
          ]
        },
        {
          "metadata": {
            "tags": null
          },
          "name": "stdout",
          "output_type": "stream",
          "text": [
            "\n",
            "Test set: Average loss: 0.4448, Accuracy: 8539/10000 (85.39%)\n",
            "\n",
            "EPOCH: 142\n"
          ]
        },
        {
          "metadata": {
            "tags": null
          },
          "name": "stderr",
          "output_type": "stream",
          "text": [
            "Loss=1.1072180271148682 Batch_id=781 Accuracy=73.72: 100%|██████████| 782/782 [00:22<00:00, 35.21it/s]\n"
          ]
        },
        {
          "metadata": {
            "tags": null
          },
          "name": "stdout",
          "output_type": "stream",
          "text": [
            "\n",
            "Test set: Average loss: 0.4635, Accuracy: 8463/10000 (84.63%)\n",
            "\n",
            "EPOCH: 143\n"
          ]
        },
        {
          "metadata": {
            "tags": null
          },
          "name": "stderr",
          "output_type": "stream",
          "text": [
            "Loss=0.9472432136535645 Batch_id=781 Accuracy=73.65: 100%|██████████| 782/782 [00:21<00:00, 35.76it/s]\n"
          ]
        },
        {
          "metadata": {
            "tags": null
          },
          "name": "stdout",
          "output_type": "stream",
          "text": [
            "\n",
            "Test set: Average loss: 0.4637, Accuracy: 8459/10000 (84.59%)\n",
            "\n",
            "EPOCH: 144\n"
          ]
        },
        {
          "metadata": {
            "tags": null
          },
          "name": "stderr",
          "output_type": "stream",
          "text": [
            "Loss=0.6549983620643616 Batch_id=781 Accuracy=73.76: 100%|██████████| 782/782 [00:21<00:00, 35.93it/s]\n"
          ]
        },
        {
          "metadata": {
            "tags": null
          },
          "name": "stdout",
          "output_type": "stream",
          "text": [
            "\n",
            "Test set: Average loss: 0.4600, Accuracy: 8468/10000 (84.68%)\n",
            "\n",
            "EPOCH: 145\n"
          ]
        },
        {
          "metadata": {
            "tags": null
          },
          "name": "stderr",
          "output_type": "stream",
          "text": [
            "Loss=0.8698711395263672 Batch_id=781 Accuracy=73.83: 100%|██████████| 782/782 [00:20<00:00, 38.01it/s]\n"
          ]
        },
        {
          "metadata": {
            "tags": null
          },
          "name": "stdout",
          "output_type": "stream",
          "text": [
            "\n",
            "Test set: Average loss: 0.4671, Accuracy: 8441/10000 (84.41%)\n",
            "\n",
            "EPOCH: 146\n"
          ]
        },
        {
          "metadata": {
            "tags": null
          },
          "name": "stderr",
          "output_type": "stream",
          "text": [
            "Loss=0.47943413257598877 Batch_id=781 Accuracy=73.71: 100%|██████████| 782/782 [00:22<00:00, 35.49it/s]\n"
          ]
        },
        {
          "metadata": {
            "tags": null
          },
          "name": "stdout",
          "output_type": "stream",
          "text": [
            "\n",
            "Test set: Average loss: 0.4497, Accuracy: 8476/10000 (84.76%)\n",
            "\n",
            "EPOCH: 147\n"
          ]
        },
        {
          "metadata": {
            "tags": null
          },
          "name": "stderr",
          "output_type": "stream",
          "text": [
            "Loss=0.8063521981239319 Batch_id=781 Accuracy=73.65: 100%|██████████| 782/782 [00:20<00:00, 37.93it/s]\n"
          ]
        },
        {
          "metadata": {
            "tags": null
          },
          "name": "stdout",
          "output_type": "stream",
          "text": [
            "\n",
            "Test set: Average loss: 0.4555, Accuracy: 8445/10000 (84.45%)\n",
            "\n",
            "EPOCH: 148\n"
          ]
        },
        {
          "metadata": {
            "tags": null
          },
          "name": "stderr",
          "output_type": "stream",
          "text": [
            "Loss=0.7188715934753418 Batch_id=781 Accuracy=73.62: 100%|██████████| 782/782 [00:20<00:00, 37.72it/s]\n"
          ]
        },
        {
          "metadata": {
            "tags": null
          },
          "name": "stdout",
          "output_type": "stream",
          "text": [
            "\n",
            "Test set: Average loss: 0.4477, Accuracy: 8489/10000 (84.89%)\n",
            "\n",
            "EPOCH: 149\n"
          ]
        },
        {
          "metadata": {
            "tags": null
          },
          "name": "stderr",
          "output_type": "stream",
          "text": [
            "Loss=0.8284726142883301 Batch_id=781 Accuracy=73.73: 100%|██████████| 782/782 [00:22<00:00, 35.04it/s]\n"
          ]
        },
        {
          "metadata": {
            "tags": null
          },
          "name": "stdout",
          "output_type": "stream",
          "text": [
            "\n",
            "Test set: Average loss: 0.4694, Accuracy: 8436/10000 (84.36%)\n",
            "\n",
            "EPOCH: 150\n"
          ]
        },
        {
          "metadata": {
            "tags": null
          },
          "name": "stderr",
          "output_type": "stream",
          "text": [
            "Loss=1.7322993278503418 Batch_id=781 Accuracy=73.78: 100%|██████████| 782/782 [00:20<00:00, 37.57it/s]\n"
          ]
        },
        {
          "metadata": {
            "tags": null
          },
          "name": "stdout",
          "output_type": "stream",
          "text": [
            "\n",
            "Test set: Average loss: 0.4628, Accuracy: 8474/10000 (84.74%)\n",
            "\n",
            "EPOCH: 151\n"
          ]
        },
        {
          "metadata": {
            "tags": null
          },
          "name": "stderr",
          "output_type": "stream",
          "text": [
            "Loss=0.9428473114967346 Batch_id=781 Accuracy=74.10: 100%|██████████| 782/782 [00:22<00:00, 34.49it/s]\n"
          ]
        },
        {
          "metadata": {
            "tags": null
          },
          "name": "stdout",
          "output_type": "stream",
          "text": [
            "\n",
            "Test set: Average loss: 0.4700, Accuracy: 8472/10000 (84.72%)\n",
            "\n",
            "EPOCH: 152\n"
          ]
        },
        {
          "metadata": {
            "tags": null
          },
          "name": "stderr",
          "output_type": "stream",
          "text": [
            "Loss=1.5594145059585571 Batch_id=781 Accuracy=73.83: 100%|██████████| 782/782 [00:22<00:00, 35.12it/s]\n"
          ]
        },
        {
          "metadata": {
            "tags": null
          },
          "name": "stdout",
          "output_type": "stream",
          "text": [
            "\n",
            "Test set: Average loss: 0.4655, Accuracy: 8450/10000 (84.50%)\n",
            "\n",
            "EPOCH: 153\n"
          ]
        },
        {
          "metadata": {
            "tags": null
          },
          "name": "stderr",
          "output_type": "stream",
          "text": [
            "Loss=0.9198190569877625 Batch_id=781 Accuracy=73.66: 100%|██████████| 782/782 [00:20<00:00, 37.69it/s]\n"
          ]
        },
        {
          "metadata": {
            "tags": null
          },
          "name": "stdout",
          "output_type": "stream",
          "text": [
            "\n",
            "Test set: Average loss: 0.4550, Accuracy: 8482/10000 (84.82%)\n",
            "\n",
            "EPOCH: 154\n"
          ]
        },
        {
          "metadata": {
            "tags": null
          },
          "name": "stderr",
          "output_type": "stream",
          "text": [
            "Loss=0.9313722252845764 Batch_id=781 Accuracy=73.95: 100%|██████████| 782/782 [00:22<00:00, 35.03it/s]\n"
          ]
        },
        {
          "metadata": {
            "tags": null
          },
          "name": "stdout",
          "output_type": "stream",
          "text": [
            "\n",
            "Test set: Average loss: 0.4520, Accuracy: 8506/10000 (85.06%)\n",
            "\n",
            "EPOCH: 155\n"
          ]
        },
        {
          "metadata": {
            "tags": null
          },
          "name": "stderr",
          "output_type": "stream",
          "text": [
            "Loss=1.4799691438674927 Batch_id=781 Accuracy=74.01: 100%|██████████| 782/782 [00:22<00:00, 34.07it/s]\n"
          ]
        },
        {
          "metadata": {
            "tags": null
          },
          "name": "stdout",
          "output_type": "stream",
          "text": [
            "\n",
            "Test set: Average loss: 0.4582, Accuracy: 8499/10000 (84.99%)\n",
            "\n",
            "EPOCH: 156\n"
          ]
        },
        {
          "metadata": {
            "tags": null
          },
          "name": "stderr",
          "output_type": "stream",
          "text": [
            "Loss=0.8824070692062378 Batch_id=781 Accuracy=73.84: 100%|██████████| 782/782 [00:21<00:00, 36.13it/s]\n"
          ]
        },
        {
          "metadata": {
            "tags": null
          },
          "name": "stdout",
          "output_type": "stream",
          "text": [
            "\n",
            "Test set: Average loss: 0.4441, Accuracy: 8484/10000 (84.84%)\n",
            "\n",
            "EPOCH: 157\n"
          ]
        },
        {
          "metadata": {
            "tags": null
          },
          "name": "stderr",
          "output_type": "stream",
          "text": [
            "Loss=0.8992943167686462 Batch_id=781 Accuracy=74.07: 100%|██████████| 782/782 [00:21<00:00, 36.69it/s]\n"
          ]
        },
        {
          "metadata": {
            "tags": null
          },
          "name": "stdout",
          "output_type": "stream",
          "text": [
            "\n",
            "Test set: Average loss: 0.4440, Accuracy: 8494/10000 (84.94%)\n",
            "\n",
            "EPOCH: 158\n"
          ]
        },
        {
          "metadata": {
            "tags": null
          },
          "name": "stderr",
          "output_type": "stream",
          "text": [
            "Loss=0.7895370125770569 Batch_id=781 Accuracy=73.93: 100%|██████████| 782/782 [00:23<00:00, 33.95it/s]\n"
          ]
        },
        {
          "metadata": {
            "tags": null
          },
          "name": "stdout",
          "output_type": "stream",
          "text": [
            "\n",
            "Test set: Average loss: 0.4429, Accuracy: 8490/10000 (84.90%)\n",
            "\n",
            "EPOCH: 159\n"
          ]
        },
        {
          "metadata": {
            "tags": null
          },
          "name": "stderr",
          "output_type": "stream",
          "text": [
            "Loss=1.166446328163147 Batch_id=781 Accuracy=73.98: 100%|██████████| 782/782 [00:23<00:00, 33.98it/s]\n"
          ]
        },
        {
          "metadata": {
            "tags": null
          },
          "name": "stdout",
          "output_type": "stream",
          "text": [
            "\n",
            "Test set: Average loss: 0.4514, Accuracy: 8471/10000 (84.71%)\n",
            "\n",
            "EPOCH: 160\n"
          ]
        },
        {
          "metadata": {
            "tags": null
          },
          "name": "stderr",
          "output_type": "stream",
          "text": [
            "Loss=0.9359065890312195 Batch_id=781 Accuracy=74.13: 100%|██████████| 782/782 [00:21<00:00, 36.51it/s]\n"
          ]
        },
        {
          "metadata": {
            "tags": null
          },
          "name": "stdout",
          "output_type": "stream",
          "text": [
            "\n",
            "Test set: Average loss: 0.4484, Accuracy: 8512/10000 (85.12%)\n",
            "\n",
            "EPOCH: 161\n"
          ]
        },
        {
          "metadata": {
            "tags": null
          },
          "name": "stderr",
          "output_type": "stream",
          "text": [
            "Loss=0.9586508274078369 Batch_id=781 Accuracy=74.12: 100%|██████████| 782/782 [00:21<00:00, 35.80it/s]\n"
          ]
        },
        {
          "metadata": {
            "tags": null
          },
          "name": "stdout",
          "output_type": "stream",
          "text": [
            "\n",
            "Test set: Average loss: 0.4564, Accuracy: 8521/10000 (85.21%)\n",
            "\n",
            "EPOCH: 162\n"
          ]
        },
        {
          "metadata": {
            "tags": null
          },
          "name": "stderr",
          "output_type": "stream",
          "text": [
            "Loss=0.6860085725784302 Batch_id=781 Accuracy=73.97: 100%|██████████| 782/782 [00:21<00:00, 36.48it/s]\n"
          ]
        },
        {
          "metadata": {
            "tags": null
          },
          "name": "stdout",
          "output_type": "stream",
          "text": [
            "\n",
            "Test set: Average loss: 0.4562, Accuracy: 8455/10000 (84.55%)\n",
            "\n",
            "EPOCH: 163\n"
          ]
        },
        {
          "metadata": {
            "tags": null
          },
          "name": "stderr",
          "output_type": "stream",
          "text": [
            "Loss=1.442351222038269 Batch_id=781 Accuracy=74.09: 100%|██████████| 782/782 [00:21<00:00, 36.39it/s]\n"
          ]
        },
        {
          "metadata": {
            "tags": null
          },
          "name": "stdout",
          "output_type": "stream",
          "text": [
            "\n",
            "Test set: Average loss: 0.4654, Accuracy: 8435/10000 (84.35%)\n",
            "\n",
            "EPOCH: 164\n"
          ]
        },
        {
          "metadata": {
            "tags": null
          },
          "name": "stderr",
          "output_type": "stream",
          "text": [
            "Loss=0.7737244367599487 Batch_id=781 Accuracy=74.29: 100%|██████████| 782/782 [00:22<00:00, 34.17it/s]\n"
          ]
        },
        {
          "metadata": {
            "tags": null
          },
          "name": "stdout",
          "output_type": "stream",
          "text": [
            "\n",
            "Test set: Average loss: 0.4562, Accuracy: 8459/10000 (84.59%)\n",
            "\n",
            "EPOCH: 165\n"
          ]
        },
        {
          "metadata": {
            "tags": null
          },
          "name": "stderr",
          "output_type": "stream",
          "text": [
            "Loss=0.6375345587730408 Batch_id=781 Accuracy=74.30: 100%|██████████| 782/782 [00:21<00:00, 35.88it/s]\n"
          ]
        },
        {
          "metadata": {
            "tags": null
          },
          "name": "stdout",
          "output_type": "stream",
          "text": [
            "\n",
            "Test set: Average loss: 0.4555, Accuracy: 8495/10000 (84.95%)\n",
            "\n",
            "EPOCH: 166\n"
          ]
        },
        {
          "metadata": {
            "tags": null
          },
          "name": "stderr",
          "output_type": "stream",
          "text": [
            "Loss=0.9028773307800293 Batch_id=781 Accuracy=74.15: 100%|██████████| 782/782 [00:21<00:00, 36.54it/s]\n"
          ]
        },
        {
          "metadata": {
            "tags": null
          },
          "name": "stdout",
          "output_type": "stream",
          "text": [
            "\n",
            "Test set: Average loss: 0.4666, Accuracy: 8442/10000 (84.42%)\n",
            "\n",
            "EPOCH: 167\n"
          ]
        },
        {
          "metadata": {
            "tags": null
          },
          "name": "stderr",
          "output_type": "stream",
          "text": [
            "Loss=1.1696088314056396 Batch_id=781 Accuracy=74.38: 100%|██████████| 782/782 [00:23<00:00, 32.69it/s]\n"
          ]
        },
        {
          "metadata": {
            "tags": null
          },
          "name": "stdout",
          "output_type": "stream",
          "text": [
            "\n",
            "Test set: Average loss: 0.4590, Accuracy: 8453/10000 (84.53%)\n",
            "\n",
            "EPOCH: 168\n"
          ]
        },
        {
          "metadata": {
            "tags": null
          },
          "name": "stderr",
          "output_type": "stream",
          "text": [
            "Loss=1.2883961200714111 Batch_id=781 Accuracy=74.19: 100%|██████████| 782/782 [00:22<00:00, 34.00it/s]\n"
          ]
        },
        {
          "metadata": {
            "tags": null
          },
          "name": "stdout",
          "output_type": "stream",
          "text": [
            "\n",
            "Test set: Average loss: 0.4588, Accuracy: 8465/10000 (84.65%)\n",
            "\n",
            "EPOCH: 169\n"
          ]
        },
        {
          "metadata": {
            "tags": null
          },
          "name": "stderr",
          "output_type": "stream",
          "text": [
            "Loss=0.9199965596199036 Batch_id=781 Accuracy=74.19: 100%|██████████| 782/782 [00:21<00:00, 35.81it/s]\n"
          ]
        },
        {
          "metadata": {
            "tags": null
          },
          "name": "stdout",
          "output_type": "stream",
          "text": [
            "\n",
            "Test set: Average loss: 0.4561, Accuracy: 8509/10000 (85.09%)\n",
            "\n",
            "EPOCH: 170\n"
          ]
        },
        {
          "metadata": {
            "tags": null
          },
          "name": "stderr",
          "output_type": "stream",
          "text": [
            "Loss=0.6752122044563293 Batch_id=781 Accuracy=74.76: 100%|██████████| 782/782 [00:21<00:00, 36.26it/s]\n"
          ]
        },
        {
          "metadata": {
            "tags": null
          },
          "name": "stdout",
          "output_type": "stream",
          "text": [
            "\n",
            "Test set: Average loss: 0.4471, Accuracy: 8494/10000 (84.94%)\n",
            "\n",
            "EPOCH: 171\n"
          ]
        },
        {
          "metadata": {
            "tags": null
          },
          "name": "stderr",
          "output_type": "stream",
          "text": [
            "Loss=0.8237712979316711 Batch_id=781 Accuracy=74.67: 100%|██████████| 782/782 [00:22<00:00, 34.01it/s]\n"
          ]
        },
        {
          "metadata": {
            "tags": null
          },
          "name": "stdout",
          "output_type": "stream",
          "text": [
            "\n",
            "Test set: Average loss: 0.4727, Accuracy: 8409/10000 (84.09%)\n",
            "\n",
            "EPOCH: 172\n"
          ]
        },
        {
          "metadata": {
            "tags": null
          },
          "name": "stderr",
          "output_type": "stream",
          "text": [
            "Loss=1.16925048828125 Batch_id=781 Accuracy=74.34: 100%|██████████| 782/782 [00:19<00:00, 40.06it/s]\n"
          ]
        },
        {
          "metadata": {
            "tags": null
          },
          "name": "stdout",
          "output_type": "stream",
          "text": [
            "\n",
            "Test set: Average loss: 0.4464, Accuracy: 8497/10000 (84.97%)\n",
            "\n",
            "EPOCH: 173\n"
          ]
        },
        {
          "metadata": {
            "tags": null
          },
          "name": "stderr",
          "output_type": "stream",
          "text": [
            "Loss=1.2619037628173828 Batch_id=781 Accuracy=74.47: 100%|██████████| 782/782 [00:20<00:00, 38.44it/s]\n"
          ]
        },
        {
          "metadata": {
            "tags": null
          },
          "name": "stdout",
          "output_type": "stream",
          "text": [
            "\n",
            "Test set: Average loss: 0.4616, Accuracy: 8455/10000 (84.55%)\n",
            "\n",
            "EPOCH: 174\n"
          ]
        },
        {
          "metadata": {
            "tags": null
          },
          "name": "stderr",
          "output_type": "stream",
          "text": [
            "Loss=0.6712543368339539 Batch_id=781 Accuracy=74.65: 100%|██████████| 782/782 [00:19<00:00, 39.96it/s]\n"
          ]
        },
        {
          "metadata": {
            "tags": null
          },
          "name": "stdout",
          "output_type": "stream",
          "text": [
            "\n",
            "Test set: Average loss: 0.4425, Accuracy: 8523/10000 (85.23%)\n",
            "\n",
            "EPOCH: 175\n"
          ]
        },
        {
          "metadata": {
            "tags": null
          },
          "name": "stderr",
          "output_type": "stream",
          "text": [
            "Loss=0.5951326489448547 Batch_id=781 Accuracy=74.73: 100%|██████████| 782/782 [00:19<00:00, 39.82it/s]\n"
          ]
        },
        {
          "metadata": {
            "tags": null
          },
          "name": "stdout",
          "output_type": "stream",
          "text": [
            "\n",
            "Test set: Average loss: 0.4450, Accuracy: 8506/10000 (85.06%)\n",
            "\n",
            "EPOCH: 176\n"
          ]
        },
        {
          "metadata": {
            "tags": null
          },
          "name": "stderr",
          "output_type": "stream",
          "text": [
            "Loss=0.2704308032989502 Batch_id=781 Accuracy=74.77: 100%|██████████| 782/782 [00:21<00:00, 35.81it/s]\n"
          ]
        },
        {
          "metadata": {
            "tags": null
          },
          "name": "stdout",
          "output_type": "stream",
          "text": [
            "\n",
            "Test set: Average loss: 0.4431, Accuracy: 8539/10000 (85.39%)\n",
            "\n",
            "EPOCH: 177\n"
          ]
        },
        {
          "metadata": {
            "tags": null
          },
          "name": "stderr",
          "output_type": "stream",
          "text": [
            "Loss=0.39137002825737 Batch_id=781 Accuracy=74.92: 100%|██████████| 782/782 [00:19<00:00, 40.07it/s]\n"
          ]
        },
        {
          "metadata": {
            "tags": null
          },
          "name": "stdout",
          "output_type": "stream",
          "text": [
            "\n",
            "Test set: Average loss: 0.4482, Accuracy: 8480/10000 (84.80%)\n",
            "\n",
            "EPOCH: 178\n"
          ]
        },
        {
          "metadata": {
            "tags": null
          },
          "name": "stderr",
          "output_type": "stream",
          "text": [
            "Loss=0.7300001382827759 Batch_id=781 Accuracy=74.62: 100%|██████████| 782/782 [00:20<00:00, 37.35it/s]\n"
          ]
        },
        {
          "metadata": {
            "tags": null
          },
          "name": "stdout",
          "output_type": "stream",
          "text": [
            "\n",
            "Test set: Average loss: 0.4565, Accuracy: 8471/10000 (84.71%)\n",
            "\n",
            "EPOCH: 179\n"
          ]
        },
        {
          "metadata": {
            "tags": null
          },
          "name": "stderr",
          "output_type": "stream",
          "text": [
            "Loss=0.6546418070793152 Batch_id=781 Accuracy=74.53: 100%|██████████| 782/782 [00:19<00:00, 40.19it/s]\n"
          ]
        },
        {
          "metadata": {
            "tags": null
          },
          "name": "stdout",
          "output_type": "stream",
          "text": [
            "\n",
            "Test set: Average loss: 0.4612, Accuracy: 8461/10000 (84.61%)\n",
            "\n",
            "EPOCH: 180\n"
          ]
        },
        {
          "metadata": {
            "tags": null
          },
          "name": "stderr",
          "output_type": "stream",
          "text": [
            "Loss=0.3746889531612396 Batch_id=781 Accuracy=74.84: 100%|██████████| 782/782 [00:20<00:00, 38.51it/s]\n"
          ]
        },
        {
          "metadata": {
            "tags": null
          },
          "name": "stdout",
          "output_type": "stream",
          "text": [
            "\n",
            "Test set: Average loss: 0.4602, Accuracy: 8463/10000 (84.63%)\n",
            "\n",
            "EPOCH: 181\n"
          ]
        },
        {
          "output_type": "stream",
          "name": "stderr",
          "text": [
            "Loss=0.4905608296394348 Batch_id=781 Accuracy=74.33: 100%|██████████| 782/782 [00:19<00:00, 40.25it/s]\n"
          ]
        },
        {
          "output_type": "stream",
          "name": "stdout",
          "text": [
            "\n",
            "Test set: Average loss: 0.4525, Accuracy: 8460/10000 (84.60%)\n",
            "\n",
            "EPOCH: 182\n"
          ]
        },
        {
          "output_type": "stream",
          "name": "stderr",
          "text": [
            "Loss=0.5919991731643677 Batch_id=781 Accuracy=74.74: 100%|██████████| 782/782 [00:19<00:00, 39.81it/s]\n"
          ]
        },
        {
          "output_type": "stream",
          "name": "stdout",
          "text": [
            "\n",
            "Test set: Average loss: 0.4545, Accuracy: 8504/10000 (85.04%)\n",
            "\n",
            "EPOCH: 183\n"
          ]
        },
        {
          "output_type": "stream",
          "name": "stderr",
          "text": [
            "Loss=0.504358172416687 Batch_id=781 Accuracy=74.80: 100%|██████████| 782/782 [00:20<00:00, 37.36it/s]\n"
          ]
        },
        {
          "output_type": "stream",
          "name": "stdout",
          "text": [
            "\n",
            "Test set: Average loss: 0.4517, Accuracy: 8476/10000 (84.76%)\n",
            "\n",
            "EPOCH: 184\n"
          ]
        },
        {
          "output_type": "stream",
          "name": "stderr",
          "text": [
            "Loss=0.6897996664047241 Batch_id=781 Accuracy=74.87: 100%|██████████| 782/782 [00:20<00:00, 38.68it/s]\n"
          ]
        },
        {
          "output_type": "stream",
          "name": "stdout",
          "text": [
            "\n",
            "Test set: Average loss: 0.4584, Accuracy: 8476/10000 (84.76%)\n",
            "\n",
            "EPOCH: 185\n"
          ]
        },
        {
          "output_type": "stream",
          "name": "stderr",
          "text": [
            "Loss=0.9903822541236877 Batch_id=781 Accuracy=74.88: 100%|██████████| 782/782 [00:22<00:00, 34.82it/s]\n"
          ]
        },
        {
          "output_type": "stream",
          "name": "stdout",
          "text": [
            "\n",
            "Test set: Average loss: 0.4456, Accuracy: 8539/10000 (85.39%)\n",
            "\n",
            "EPOCH: 186\n"
          ]
        },
        {
          "output_type": "stream",
          "name": "stderr",
          "text": [
            "Loss=0.99712735414505 Batch_id=781 Accuracy=75.02: 100%|██████████| 782/782 [00:19<00:00, 39.30it/s]\n"
          ]
        },
        {
          "output_type": "stream",
          "name": "stdout",
          "text": [
            "\n",
            "Test set: Average loss: 0.4413, Accuracy: 8564/10000 (85.64%)\n",
            "\n",
            "EPOCH: 187\n"
          ]
        },
        {
          "output_type": "stream",
          "name": "stderr",
          "text": [
            "Loss=0.5715663433074951 Batch_id=781 Accuracy=74.94: 100%|██████████| 782/782 [00:20<00:00, 37.86it/s]\n"
          ]
        },
        {
          "output_type": "stream",
          "name": "stdout",
          "text": [
            "\n",
            "Test set: Average loss: 0.4352, Accuracy: 8538/10000 (85.38%)\n",
            "\n",
            "EPOCH: 188\n"
          ]
        },
        {
          "output_type": "stream",
          "name": "stderr",
          "text": [
            "Loss=0.8998520970344543 Batch_id=781 Accuracy=74.79: 100%|██████████| 782/782 [00:20<00:00, 38.74it/s]\n"
          ]
        },
        {
          "output_type": "stream",
          "name": "stdout",
          "text": [
            "\n",
            "Test set: Average loss: 0.4406, Accuracy: 8566/10000 (85.66%)\n",
            "\n",
            "EPOCH: 189\n"
          ]
        },
        {
          "output_type": "stream",
          "name": "stderr",
          "text": [
            "Loss=0.5986583232879639 Batch_id=781 Accuracy=75.09: 100%|██████████| 782/782 [00:19<00:00, 39.51it/s]\n"
          ]
        },
        {
          "output_type": "stream",
          "name": "stdout",
          "text": [
            "\n",
            "Test set: Average loss: 0.4475, Accuracy: 8536/10000 (85.36%)\n",
            "\n",
            "EPOCH: 190\n"
          ]
        },
        {
          "output_type": "stream",
          "name": "stderr",
          "text": [
            "Loss=0.7265112996101379 Batch_id=781 Accuracy=75.18: 100%|██████████| 782/782 [00:21<00:00, 37.10it/s]\n"
          ]
        },
        {
          "output_type": "stream",
          "name": "stdout",
          "text": [
            "\n",
            "Test set: Average loss: 0.4308, Accuracy: 8577/10000 (85.77%)\n",
            "\n",
            "EPOCH: 191\n"
          ]
        },
        {
          "output_type": "stream",
          "name": "stderr",
          "text": [
            "Loss=1.0790057182312012 Batch_id=781 Accuracy=75.14: 100%|██████████| 782/782 [00:19<00:00, 39.43it/s]\n"
          ]
        },
        {
          "output_type": "stream",
          "name": "stdout",
          "text": [
            "\n",
            "Test set: Average loss: 0.4428, Accuracy: 8520/10000 (85.20%)\n",
            "\n",
            "EPOCH: 192\n"
          ]
        },
        {
          "output_type": "stream",
          "name": "stderr",
          "text": [
            "Loss=0.6967735886573792 Batch_id=781 Accuracy=75.19: 100%|██████████| 782/782 [00:20<00:00, 37.29it/s]\n"
          ]
        },
        {
          "output_type": "stream",
          "name": "stdout",
          "text": [
            "\n",
            "Test set: Average loss: 0.4750, Accuracy: 8438/10000 (84.38%)\n",
            "\n",
            "EPOCH: 193\n"
          ]
        },
        {
          "output_type": "stream",
          "name": "stderr",
          "text": [
            "Loss=1.118240237236023 Batch_id=781 Accuracy=74.82: 100%|██████████| 782/782 [00:20<00:00, 39.04it/s]\n"
          ]
        },
        {
          "output_type": "stream",
          "name": "stdout",
          "text": [
            "\n",
            "Test set: Average loss: 0.4372, Accuracy: 8539/10000 (85.39%)\n",
            "\n",
            "EPOCH: 194\n"
          ]
        },
        {
          "output_type": "stream",
          "name": "stderr",
          "text": [
            "Loss=0.4973055422306061 Batch_id=781 Accuracy=74.69: 100%|██████████| 782/782 [00:21<00:00, 36.35it/s]\n"
          ]
        },
        {
          "output_type": "stream",
          "name": "stdout",
          "text": [
            "\n",
            "Test set: Average loss: 0.4373, Accuracy: 8539/10000 (85.39%)\n",
            "\n",
            "EPOCH: 195\n"
          ]
        },
        {
          "output_type": "stream",
          "name": "stderr",
          "text": [
            "Loss=1.3380577564239502 Batch_id=781 Accuracy=74.85: 100%|██████████| 782/782 [00:21<00:00, 37.05it/s]\n"
          ]
        },
        {
          "output_type": "stream",
          "name": "stdout",
          "text": [
            "\n",
            "Test set: Average loss: 0.4413, Accuracy: 8527/10000 (85.27%)\n",
            "\n",
            "EPOCH: 196\n"
          ]
        },
        {
          "output_type": "stream",
          "name": "stderr",
          "text": [
            "Loss=0.6742637753486633 Batch_id=781 Accuracy=74.94: 100%|██████████| 782/782 [00:19<00:00, 39.32it/s]\n"
          ]
        },
        {
          "output_type": "stream",
          "name": "stdout",
          "text": [
            "\n",
            "Test set: Average loss: 0.4522, Accuracy: 8514/10000 (85.14%)\n",
            "\n",
            "EPOCH: 197\n"
          ]
        },
        {
          "output_type": "stream",
          "name": "stderr",
          "text": [
            "Loss=0.7724456191062927 Batch_id=781 Accuracy=75.10: 100%|██████████| 782/782 [00:21<00:00, 36.80it/s]\n"
          ]
        },
        {
          "output_type": "stream",
          "name": "stdout",
          "text": [
            "\n",
            "Test set: Average loss: 0.4261, Accuracy: 8584/10000 (85.84%)\n",
            "\n",
            "EPOCH: 198\n"
          ]
        },
        {
          "output_type": "stream",
          "name": "stderr",
          "text": [
            "Loss=1.3718143701553345 Batch_id=781 Accuracy=75.25: 100%|██████████| 782/782 [00:19<00:00, 39.42it/s]\n"
          ]
        },
        {
          "output_type": "stream",
          "name": "stdout",
          "text": [
            "\n",
            "Test set: Average loss: 0.4310, Accuracy: 8590/10000 (85.90%)\n",
            "\n",
            "EPOCH: 199\n"
          ]
        },
        {
          "output_type": "stream",
          "name": "stderr",
          "text": [
            "Loss=0.9296221137046814 Batch_id=781 Accuracy=75.08: 100%|██████████| 782/782 [00:21<00:00, 37.14it/s]\n"
          ]
        },
        {
          "output_type": "stream",
          "name": "stdout",
          "text": [
            "\n",
            "Test set: Average loss: 0.4416, Accuracy: 8585/10000 (85.85%)\n",
            "\n",
            "EPOCH: 200\n"
          ]
        },
        {
          "output_type": "stream",
          "name": "stderr",
          "text": [
            "Loss=0.7423186898231506 Batch_id=781 Accuracy=75.16: 100%|██████████| 782/782 [00:20<00:00, 38.01it/s]\n"
          ]
        },
        {
          "output_type": "stream",
          "name": "stdout",
          "text": [
            "\n",
            "Test set: Average loss: 0.4453, Accuracy: 8546/10000 (85.46%)\n",
            "\n",
            "EPOCH: 201\n"
          ]
        },
        {
          "output_type": "stream",
          "name": "stderr",
          "text": [
            "Loss=0.6899049878120422 Batch_id=781 Accuracy=75.38: 100%|██████████| 782/782 [00:19<00:00, 39.54it/s]\n"
          ]
        },
        {
          "output_type": "stream",
          "name": "stdout",
          "text": [
            "\n",
            "Test set: Average loss: 0.4436, Accuracy: 8522/10000 (85.22%)\n",
            "\n",
            "EPOCH: 202\n"
          ]
        },
        {
          "output_type": "stream",
          "name": "stderr",
          "text": [
            "Loss=1.5396627187728882 Batch_id=781 Accuracy=75.46: 100%|██████████| 782/782 [00:21<00:00, 36.89it/s]\n"
          ]
        },
        {
          "output_type": "stream",
          "name": "stdout",
          "text": [
            "\n",
            "Test set: Average loss: 0.4438, Accuracy: 8572/10000 (85.72%)\n",
            "\n",
            "EPOCH: 203\n"
          ]
        },
        {
          "output_type": "stream",
          "name": "stderr",
          "text": [
            "Loss=1.0206201076507568 Batch_id=781 Accuracy=75.14: 100%|██████████| 782/782 [00:21<00:00, 36.67it/s]\n"
          ]
        },
        {
          "output_type": "stream",
          "name": "stdout",
          "text": [
            "\n",
            "Test set: Average loss: 0.4678, Accuracy: 8488/10000 (84.88%)\n",
            "\n",
            "EPOCH: 204\n"
          ]
        },
        {
          "output_type": "stream",
          "name": "stderr",
          "text": [
            "Loss=1.1299482583999634 Batch_id=781 Accuracy=75.41: 100%|██████████| 782/782 [00:20<00:00, 37.30it/s]\n"
          ]
        },
        {
          "output_type": "stream",
          "name": "stdout",
          "text": [
            "\n",
            "Test set: Average loss: 0.4535, Accuracy: 8531/10000 (85.31%)\n",
            "\n",
            "EPOCH: 205\n"
          ]
        },
        {
          "output_type": "stream",
          "name": "stderr",
          "text": [
            "Loss=0.5387300848960876 Batch_id=781 Accuracy=75.46: 100%|██████████| 782/782 [00:19<00:00, 39.42it/s]\n"
          ]
        },
        {
          "output_type": "stream",
          "name": "stdout",
          "text": [
            "\n",
            "Test set: Average loss: 0.4383, Accuracy: 8539/10000 (85.39%)\n",
            "\n",
            "EPOCH: 206\n"
          ]
        },
        {
          "output_type": "stream",
          "name": "stderr",
          "text": [
            "Loss=0.36127811670303345 Batch_id=781 Accuracy=75.09: 100%|██████████| 782/782 [00:19<00:00, 39.27it/s]\n"
          ]
        },
        {
          "output_type": "stream",
          "name": "stdout",
          "text": [
            "\n",
            "Test set: Average loss: 0.4462, Accuracy: 8523/10000 (85.23%)\n",
            "\n",
            "EPOCH: 207\n"
          ]
        },
        {
          "output_type": "stream",
          "name": "stderr",
          "text": [
            "Loss=0.4001503884792328 Batch_id=781 Accuracy=75.37: 100%|██████████| 782/782 [00:20<00:00, 38.33it/s]\n"
          ]
        },
        {
          "output_type": "stream",
          "name": "stdout",
          "text": [
            "\n",
            "Test set: Average loss: 0.4639, Accuracy: 8488/10000 (84.88%)\n",
            "\n",
            "EPOCH: 208\n"
          ]
        },
        {
          "output_type": "stream",
          "name": "stderr",
          "text": [
            "Loss=0.6524660587310791 Batch_id=781 Accuracy=75.24: 100%|██████████| 782/782 [00:19<00:00, 39.71it/s]\n"
          ]
        },
        {
          "output_type": "stream",
          "name": "stdout",
          "text": [
            "\n",
            "Test set: Average loss: 0.4479, Accuracy: 8541/10000 (85.41%)\n",
            "\n",
            "EPOCH: 209\n"
          ]
        },
        {
          "output_type": "stream",
          "name": "stderr",
          "text": [
            "Loss=0.8579624891281128 Batch_id=781 Accuracy=75.50: 100%|██████████| 782/782 [00:20<00:00, 37.28it/s]\n"
          ]
        },
        {
          "output_type": "stream",
          "name": "stdout",
          "text": [
            "\n",
            "Test set: Average loss: 0.4372, Accuracy: 8575/10000 (85.75%)\n",
            "\n",
            "EPOCH: 210\n"
          ]
        },
        {
          "output_type": "stream",
          "name": "stderr",
          "text": [
            "Loss=1.1148179769515991 Batch_id=781 Accuracy=75.51: 100%|██████████| 782/782 [00:19<00:00, 39.70it/s]\n"
          ]
        },
        {
          "output_type": "stream",
          "name": "stdout",
          "text": [
            "\n",
            "Test set: Average loss: 0.4422, Accuracy: 8542/10000 (85.42%)\n",
            "\n",
            "EPOCH: 211\n"
          ]
        },
        {
          "output_type": "stream",
          "name": "stderr",
          "text": [
            "Loss=1.0525405406951904 Batch_id=781 Accuracy=75.38: 100%|██████████| 782/782 [00:20<00:00, 37.86it/s]\n"
          ]
        },
        {
          "output_type": "stream",
          "name": "stdout",
          "text": [
            "\n",
            "Test set: Average loss: 0.4557, Accuracy: 8498/10000 (84.98%)\n",
            "\n",
            "EPOCH: 212\n"
          ]
        },
        {
          "output_type": "stream",
          "name": "stderr",
          "text": [
            "Loss=1.0269931554794312 Batch_id=781 Accuracy=75.39: 100%|██████████| 782/782 [00:21<00:00, 37.15it/s]\n"
          ]
        },
        {
          "output_type": "stream",
          "name": "stdout",
          "text": [
            "\n",
            "Test set: Average loss: 0.4395, Accuracy: 8545/10000 (85.45%)\n",
            "\n",
            "EPOCH: 213\n"
          ]
        },
        {
          "output_type": "stream",
          "name": "stderr",
          "text": [
            "Loss=0.6749132871627808 Batch_id=781 Accuracy=75.63: 100%|██████████| 782/782 [00:20<00:00, 37.58it/s]\n"
          ]
        },
        {
          "output_type": "stream",
          "name": "stdout",
          "text": [
            "\n",
            "Test set: Average loss: 0.4434, Accuracy: 8529/10000 (85.29%)\n",
            "\n",
            "EPOCH: 214\n"
          ]
        },
        {
          "output_type": "stream",
          "name": "stderr",
          "text": [
            "Loss=0.5458101034164429 Batch_id=781 Accuracy=75.48: 100%|██████████| 782/782 [00:19<00:00, 39.73it/s]\n"
          ]
        },
        {
          "output_type": "stream",
          "name": "stdout",
          "text": [
            "\n",
            "Test set: Average loss: 0.4484, Accuracy: 8510/10000 (85.10%)\n",
            "\n",
            "EPOCH: 215\n"
          ]
        },
        {
          "output_type": "stream",
          "name": "stderr",
          "text": [
            "Loss=0.8644638657569885 Batch_id=781 Accuracy=75.65: 100%|██████████| 782/782 [00:19<00:00, 39.43it/s]\n"
          ]
        },
        {
          "output_type": "stream",
          "name": "stdout",
          "text": [
            "\n",
            "Test set: Average loss: 0.4337, Accuracy: 8584/10000 (85.84%)\n",
            "\n",
            "EPOCH: 216\n"
          ]
        },
        {
          "output_type": "stream",
          "name": "stderr",
          "text": [
            "Loss=1.1354669332504272 Batch_id=781 Accuracy=75.64: 100%|██████████| 782/782 [00:20<00:00, 37.41it/s]\n"
          ]
        },
        {
          "output_type": "stream",
          "name": "stdout",
          "text": [
            "\n",
            "Test set: Average loss: 0.4475, Accuracy: 8517/10000 (85.17%)\n",
            "\n",
            "EPOCH: 217\n"
          ]
        },
        {
          "output_type": "stream",
          "name": "stderr",
          "text": [
            "Loss=1.0671281814575195 Batch_id=781 Accuracy=75.49: 100%|██████████| 782/782 [00:19<00:00, 39.17it/s]\n"
          ]
        },
        {
          "output_type": "stream",
          "name": "stdout",
          "text": [
            "\n",
            "Test set: Average loss: 0.4417, Accuracy: 8536/10000 (85.36%)\n",
            "\n",
            "EPOCH: 218\n"
          ]
        },
        {
          "output_type": "stream",
          "name": "stderr",
          "text": [
            "Loss=1.0156621932983398 Batch_id=781 Accuracy=75.44: 100%|██████████| 782/782 [00:20<00:00, 37.26it/s]\n"
          ]
        },
        {
          "output_type": "stream",
          "name": "stdout",
          "text": [
            "\n",
            "Test set: Average loss: 0.4408, Accuracy: 8548/10000 (85.48%)\n",
            "\n",
            "EPOCH: 219\n"
          ]
        },
        {
          "output_type": "stream",
          "name": "stderr",
          "text": [
            "Loss=0.5923566222190857 Batch_id=781 Accuracy=75.10: 100%|██████████| 782/782 [00:19<00:00, 39.77it/s]\n"
          ]
        },
        {
          "output_type": "stream",
          "name": "stdout",
          "text": [
            "\n",
            "Test set: Average loss: 0.4345, Accuracy: 8552/10000 (85.52%)\n",
            "\n",
            "EPOCH: 220\n"
          ]
        },
        {
          "output_type": "stream",
          "name": "stderr",
          "text": [
            "Loss=0.492233544588089 Batch_id=781 Accuracy=75.81: 100%|██████████| 782/782 [00:20<00:00, 38.84it/s]\n"
          ]
        },
        {
          "output_type": "stream",
          "name": "stdout",
          "text": [
            "\n",
            "Test set: Average loss: 0.4377, Accuracy: 8556/10000 (85.56%)\n",
            "\n",
            "EPOCH: 221\n"
          ]
        },
        {
          "output_type": "stream",
          "name": "stderr",
          "text": [
            "Loss=1.3812673091888428 Batch_id=781 Accuracy=75.65: 100%|██████████| 782/782 [00:22<00:00, 35.09it/s]\n"
          ]
        },
        {
          "output_type": "stream",
          "name": "stdout",
          "text": [
            "\n",
            "Test set: Average loss: 0.4462, Accuracy: 8532/10000 (85.32%)\n",
            "\n",
            "EPOCH: 222\n"
          ]
        },
        {
          "output_type": "stream",
          "name": "stderr",
          "text": [
            "Loss=0.9027994871139526 Batch_id=781 Accuracy=75.50: 100%|██████████| 782/782 [00:19<00:00, 39.39it/s]\n"
          ]
        },
        {
          "output_type": "stream",
          "name": "stdout",
          "text": [
            "\n",
            "Test set: Average loss: 0.4496, Accuracy: 8543/10000 (85.43%)\n",
            "\n",
            "EPOCH: 223\n"
          ]
        },
        {
          "output_type": "stream",
          "name": "stderr",
          "text": [
            "Loss=0.9039269685745239 Batch_id=781 Accuracy=75.65: 100%|██████████| 782/782 [00:21<00:00, 36.80it/s]\n"
          ]
        },
        {
          "output_type": "stream",
          "name": "stdout",
          "text": [
            "\n",
            "Test set: Average loss: 0.4422, Accuracy: 8532/10000 (85.32%)\n",
            "\n",
            "EPOCH: 224\n"
          ]
        },
        {
          "output_type": "stream",
          "name": "stderr",
          "text": [
            "Loss=0.9326148629188538 Batch_id=781 Accuracy=75.80: 100%|██████████| 782/782 [00:19<00:00, 39.33it/s]\n"
          ]
        },
        {
          "output_type": "stream",
          "name": "stdout",
          "text": [
            "\n",
            "Test set: Average loss: 0.4615, Accuracy: 8502/10000 (85.02%)\n",
            "\n",
            "EPOCH: 225\n"
          ]
        },
        {
          "output_type": "stream",
          "name": "stderr",
          "text": [
            "Loss=0.875171959400177 Batch_id=781 Accuracy=75.46: 100%|██████████| 782/782 [00:20<00:00, 38.08it/s]\n"
          ]
        },
        {
          "output_type": "stream",
          "name": "stdout",
          "text": [
            "\n",
            "Test set: Average loss: 0.4387, Accuracy: 8572/10000 (85.72%)\n",
            "\n",
            "EPOCH: 226\n"
          ]
        },
        {
          "output_type": "stream",
          "name": "stderr",
          "text": [
            "Loss=0.7954712510108948 Batch_id=781 Accuracy=75.84: 100%|██████████| 782/782 [00:20<00:00, 38.17it/s]\n"
          ]
        },
        {
          "output_type": "stream",
          "name": "stdout",
          "text": [
            "\n",
            "Test set: Average loss: 0.4515, Accuracy: 8537/10000 (85.37%)\n",
            "\n",
            "EPOCH: 227\n"
          ]
        },
        {
          "output_type": "stream",
          "name": "stderr",
          "text": [
            "Loss=0.961692750453949 Batch_id=781 Accuracy=75.42: 100%|██████████| 782/782 [00:19<00:00, 39.54it/s]\n"
          ]
        },
        {
          "output_type": "stream",
          "name": "stdout",
          "text": [
            "\n",
            "Test set: Average loss: 0.4385, Accuracy: 8554/10000 (85.54%)\n",
            "\n",
            "EPOCH: 228\n"
          ]
        },
        {
          "output_type": "stream",
          "name": "stderr",
          "text": [
            "Loss=0.5949416756629944 Batch_id=781 Accuracy=75.75: 100%|██████████| 782/782 [00:21<00:00, 36.70it/s]\n"
          ]
        },
        {
          "output_type": "stream",
          "name": "stdout",
          "text": [
            "\n",
            "Test set: Average loss: 0.4315, Accuracy: 8622/10000 (86.22%)\n",
            "\n",
            "EPOCH: 229\n"
          ]
        },
        {
          "output_type": "stream",
          "name": "stderr",
          "text": [
            "Loss=1.2414683103561401 Batch_id=781 Accuracy=75.67: 100%|██████████| 782/782 [00:21<00:00, 36.84it/s]\n"
          ]
        },
        {
          "output_type": "stream",
          "name": "stdout",
          "text": [
            "\n",
            "Test set: Average loss: 0.4435, Accuracy: 8562/10000 (85.62%)\n",
            "\n",
            "EPOCH: 230\n"
          ]
        },
        {
          "output_type": "stream",
          "name": "stderr",
          "text": [
            "Loss=0.9512090682983398 Batch_id=781 Accuracy=75.60: 100%|██████████| 782/782 [00:20<00:00, 38.58it/s]\n"
          ]
        },
        {
          "output_type": "stream",
          "name": "stdout",
          "text": [
            "\n",
            "Test set: Average loss: 0.4357, Accuracy: 8562/10000 (85.62%)\n",
            "\n",
            "EPOCH: 231\n"
          ]
        },
        {
          "output_type": "stream",
          "name": "stderr",
          "text": [
            "Loss=0.5032022595405579 Batch_id=781 Accuracy=76.16: 100%|██████████| 782/782 [00:20<00:00, 37.57it/s]\n"
          ]
        },
        {
          "output_type": "stream",
          "name": "stdout",
          "text": [
            "\n",
            "Test set: Average loss: 0.4504, Accuracy: 8545/10000 (85.45%)\n",
            "\n",
            "EPOCH: 232\n"
          ]
        },
        {
          "output_type": "stream",
          "name": "stderr",
          "text": [
            "Loss=0.8012603521347046 Batch_id=781 Accuracy=76.13: 100%|██████████| 782/782 [00:20<00:00, 39.06it/s]\n"
          ]
        },
        {
          "output_type": "stream",
          "name": "stdout",
          "text": [
            "\n",
            "Test set: Average loss: 0.4388, Accuracy: 8564/10000 (85.64%)\n",
            "\n",
            "EPOCH: 233\n"
          ]
        },
        {
          "output_type": "stream",
          "name": "stderr",
          "text": [
            "Loss=0.5113560557365417 Batch_id=781 Accuracy=75.81: 100%|██████████| 782/782 [00:21<00:00, 36.39it/s]\n"
          ]
        },
        {
          "output_type": "stream",
          "name": "stdout",
          "text": [
            "\n",
            "Test set: Average loss: 0.4510, Accuracy: 8517/10000 (85.17%)\n",
            "\n",
            "EPOCH: 234\n"
          ]
        },
        {
          "output_type": "stream",
          "name": "stderr",
          "text": [
            "Loss=0.6440356969833374 Batch_id=781 Accuracy=76.38: 100%|██████████| 782/782 [00:21<00:00, 35.76it/s]\n"
          ]
        },
        {
          "output_type": "stream",
          "name": "stdout",
          "text": [
            "\n",
            "Test set: Average loss: 0.4319, Accuracy: 8577/10000 (85.77%)\n",
            "\n",
            "EPOCH: 235\n"
          ]
        },
        {
          "output_type": "stream",
          "name": "stderr",
          "text": [
            "Loss=1.017791748046875 Batch_id=781 Accuracy=76.07: 100%|██████████| 782/782 [00:22<00:00, 34.44it/s]\n"
          ]
        },
        {
          "output_type": "stream",
          "name": "stdout",
          "text": [
            "\n",
            "Test set: Average loss: 0.4423, Accuracy: 8535/10000 (85.35%)\n",
            "\n",
            "EPOCH: 236\n"
          ]
        },
        {
          "output_type": "stream",
          "name": "stderr",
          "text": [
            "Loss=0.9869828224182129 Batch_id=781 Accuracy=76.18: 100%|██████████| 782/782 [00:21<00:00, 36.16it/s]\n"
          ]
        },
        {
          "output_type": "stream",
          "name": "stdout",
          "text": [
            "\n",
            "Test set: Average loss: 0.4464, Accuracy: 8522/10000 (85.22%)\n",
            "\n",
            "EPOCH: 237\n"
          ]
        },
        {
          "output_type": "stream",
          "name": "stderr",
          "text": [
            "Loss=0.8125168085098267 Batch_id=781 Accuracy=75.84: 100%|██████████| 782/782 [00:24<00:00, 31.78it/s]\n"
          ]
        },
        {
          "output_type": "stream",
          "name": "stdout",
          "text": [
            "\n",
            "Test set: Average loss: 0.4622, Accuracy: 8501/10000 (85.01%)\n",
            "\n",
            "EPOCH: 238\n"
          ]
        },
        {
          "output_type": "stream",
          "name": "stderr",
          "text": [
            "Loss=0.9763082265853882 Batch_id=781 Accuracy=76.00: 100%|██████████| 782/782 [00:25<00:00, 30.74it/s]\n"
          ]
        },
        {
          "output_type": "stream",
          "name": "stdout",
          "text": [
            "\n",
            "Test set: Average loss: 0.4311, Accuracy: 8593/10000 (85.93%)\n",
            "\n",
            "EPOCH: 239\n"
          ]
        },
        {
          "output_type": "stream",
          "name": "stderr",
          "text": [
            "Loss=1.136576771736145 Batch_id=781 Accuracy=76.27: 100%|██████████| 782/782 [00:22<00:00, 35.24it/s]\n"
          ]
        },
        {
          "output_type": "stream",
          "name": "stdout",
          "text": [
            "\n",
            "Test set: Average loss: 0.4403, Accuracy: 8596/10000 (85.96%)\n",
            "\n",
            "EPOCH: 240\n"
          ]
        },
        {
          "output_type": "stream",
          "name": "stderr",
          "text": [
            "Loss=1.4211794137954712 Batch_id=781 Accuracy=75.97: 100%|██████████| 782/782 [00:21<00:00, 36.43it/s]\n"
          ]
        },
        {
          "output_type": "stream",
          "name": "stdout",
          "text": [
            "\n",
            "Test set: Average loss: 0.4362, Accuracy: 8604/10000 (86.04%)\n",
            "\n",
            "EPOCH: 241\n"
          ]
        },
        {
          "output_type": "stream",
          "name": "stderr",
          "text": [
            "Loss=0.6278690099716187 Batch_id=781 Accuracy=76.01: 100%|██████████| 782/782 [00:22<00:00, 35.41it/s]\n"
          ]
        },
        {
          "output_type": "stream",
          "name": "stdout",
          "text": [
            "\n",
            "Test set: Average loss: 0.4301, Accuracy: 8602/10000 (86.02%)\n",
            "\n",
            "EPOCH: 242\n"
          ]
        },
        {
          "output_type": "stream",
          "name": "stderr",
          "text": [
            "Loss=0.7280248999595642 Batch_id=781 Accuracy=75.77: 100%|██████████| 782/782 [00:21<00:00, 36.84it/s]\n"
          ]
        },
        {
          "output_type": "stream",
          "name": "stdout",
          "text": [
            "\n",
            "Test set: Average loss: 0.4453, Accuracy: 8554/10000 (85.54%)\n",
            "\n",
            "EPOCH: 243\n"
          ]
        },
        {
          "output_type": "stream",
          "name": "stderr",
          "text": [
            "Loss=0.7977699637413025 Batch_id=781 Accuracy=76.04: 100%|██████████| 782/782 [00:21<00:00, 35.61it/s]\n"
          ]
        },
        {
          "output_type": "stream",
          "name": "stdout",
          "text": [
            "\n",
            "Test set: Average loss: 0.4347, Accuracy: 8582/10000 (85.82%)\n",
            "\n",
            "EPOCH: 244\n"
          ]
        },
        {
          "output_type": "stream",
          "name": "stderr",
          "text": [
            "Loss=1.4885833263397217 Batch_id=781 Accuracy=75.78: 100%|██████████| 782/782 [00:22<00:00, 34.13it/s]\n"
          ]
        },
        {
          "output_type": "stream",
          "name": "stdout",
          "text": [
            "\n",
            "Test set: Average loss: 0.4563, Accuracy: 8520/10000 (85.20%)\n",
            "\n",
            "EPOCH: 245\n"
          ]
        },
        {
          "output_type": "stream",
          "name": "stderr",
          "text": [
            "Loss=0.6780474781990051 Batch_id=781 Accuracy=76.25: 100%|██████████| 782/782 [00:21<00:00, 35.82it/s]\n"
          ]
        },
        {
          "output_type": "stream",
          "name": "stdout",
          "text": [
            "\n",
            "Test set: Average loss: 0.4383, Accuracy: 8575/10000 (85.75%)\n",
            "\n",
            "EPOCH: 246\n"
          ]
        },
        {
          "output_type": "stream",
          "name": "stderr",
          "text": [
            "Loss=0.4421243369579315 Batch_id=781 Accuracy=76.15: 100%|██████████| 782/782 [00:20<00:00, 37.33it/s]\n"
          ]
        },
        {
          "output_type": "stream",
          "name": "stdout",
          "text": [
            "\n",
            "Test set: Average loss: 0.4434, Accuracy: 8544/10000 (85.44%)\n",
            "\n",
            "EPOCH: 247\n"
          ]
        },
        {
          "output_type": "stream",
          "name": "stderr",
          "text": [
            "Loss=0.8068681955337524 Batch_id=781 Accuracy=75.76: 100%|██████████| 782/782 [00:21<00:00, 35.72it/s]\n"
          ]
        },
        {
          "output_type": "stream",
          "name": "stdout",
          "text": [
            "\n",
            "Test set: Average loss: 0.4519, Accuracy: 8536/10000 (85.36%)\n",
            "\n",
            "EPOCH: 248\n"
          ]
        },
        {
          "output_type": "stream",
          "name": "stderr",
          "text": [
            "Loss=0.452963262796402 Batch_id=781 Accuracy=76.38: 100%|██████████| 782/782 [00:21<00:00, 35.65it/s]\n"
          ]
        },
        {
          "output_type": "stream",
          "name": "stdout",
          "text": [
            "\n",
            "Test set: Average loss: 0.4320, Accuracy: 8609/10000 (86.09%)\n",
            "\n",
            "EPOCH: 249\n"
          ]
        },
        {
          "output_type": "stream",
          "name": "stderr",
          "text": [
            "Loss=0.8964311480522156 Batch_id=781 Accuracy=76.40: 100%|██████████| 782/782 [00:21<00:00, 36.08it/s]\n"
          ]
        },
        {
          "output_type": "stream",
          "name": "stdout",
          "text": [
            "\n",
            "Test set: Average loss: 0.4258, Accuracy: 8628/10000 (86.28%)\n",
            "\n"
          ]
        }
      ]
    },
    {
      "cell_type": "code",
      "source": [],
      "metadata": {
        "id": "lvYbyKtfDI-l"
      },
      "execution_count": null,
      "outputs": []
    }
  ]
}